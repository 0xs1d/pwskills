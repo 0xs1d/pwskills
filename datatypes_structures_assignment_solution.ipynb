{
  "cells": [
    {
      "cell_type": "markdown",
      "metadata": {
        "id": "view-in-github",
        "colab_type": "text"
      },
      "source": [
        "<a href=\"https://colab.research.google.com/github/0xs1d/pwskills/blob/main/datatypes_structures_assignment_solution.ipynb\" target=\"_parent\"><img src=\"https://colab.research.google.com/assets/colab-badge.svg\" alt=\"Open In Colab\"/></a>"
      ]
    },
    {
      "cell_type": "markdown",
      "id": "09c69649",
      "metadata": {
        "id": "09c69649"
      },
      "source": [
        "# Data Types and Structures — Assignment Solutions\n",
        "\n",
        "This notebook contains theory answers and runnable Python solutions for the assignment questions.\n",
        "\n",
        "**Date:** 2025-09-13\n"
      ]
    },
    {
      "cell_type": "markdown",
      "id": "8bc4c399",
      "metadata": {
        "id": "8bc4c399"
      },
      "source": [
        "## Theory / Short Answers\n",
        "\n",
        "**1. What are data structures, and why are they important?**  \n",
        "Data structures organize and store data efficiently for processing. They are important because they optimize time and memory, make data retrieval easier, and help implement complex algorithms.\n",
        "\n",
        "**2. Difference between mutable and immutable data types with examples.**  \n",
        "- Mutable: Can be changed after creation (e.g., lists, dictionaries).  \n",
        "- Immutable: Cannot be changed after creation (e.g., strings, tuples).\n",
        "\n",
        "**3. Main differences between lists and tuples in Python.**  \n",
        "- Lists: Mutable, slower, defined with `[]`.  \n",
        "- Tuples: Immutable, faster, defined with `()`.\n",
        "\n",
        "**4. How dictionaries store data.**  \n",
        "Dictionaries store data as key–value pairs using hash tables internally for fast lookup.\n",
        "\n",
        "**5. Why use a set instead of a list.**  \n",
        "Sets automatically remove duplicates and allow fast membership testing.\n",
        "\n",
        "**6. What is a string in Python, and how is it different from a list.**  \n",
        "A string is an immutable sequence of characters. A list is mutable and can hold mixed types.\n",
        "\n",
        "**7. How do tuples ensure data integrity.**  \n",
        "Since tuples are immutable, their values cannot be accidentally changed, ensuring data integrity.\n",
        "\n",
        "**8. What is a hash table, and how does it relate to dictionaries in Python.**  \n",
        "A hash table is a data structure that maps keys to values using a hash function. Python dictionaries are implemented using hash tables.\n",
        "\n",
        "**9. Can lists contain different data types?**  \n",
        "Yes, lists can contain integers, strings, floats, objects, or even other lists.\n",
        "\n",
        "**10. Why are strings immutable in Python.**  \n",
        "Because each modification would require creating a new string object, which simplifies memory management and improves performance.\n",
        "\n",
        "**11. Advantages of dictionaries over lists.**  \n",
        "Fast lookup by keys, flexible key types, and natural representation of mappings.\n",
        "\n",
        "**12. Scenario where a tuple is preferable over a list.**  \n",
        "When storing fixed configuration data that must not change (e.g., GPS coordinates).\n",
        "\n",
        "**13. How sets handle duplicate values.**  \n",
        "Sets automatically ignore duplicate entries.\n",
        "\n",
        "**14. How does the “in” keyword work differently for lists and dictionaries.**  \n",
        "- In lists: checks if a value exists in the sequence.  \n",
        "- In dictionaries: checks if a key exists.\n",
        "\n",
        "**15. Can you modify the elements of a tuple?**  \n",
        "No, because tuples are immutable. You can only create a new tuple.\n",
        "\n",
        "**16. What is a nested dictionary? Example.**  \n",
        "A dictionary inside another dictionary.  \n",
        "```python\n",
        "students = {\"John\": {\"age\": 20, \"grade\": \"A\"}}\n",
        "```\n",
        "\n",
        "**17. Time complexity of accessing elements in a dictionary.**  \n",
        "Average case: O(1). Worst case: O(n).\n",
        "\n",
        "**18. Situations where lists are preferred over dictionaries.**  \n",
        "When order matters or when you only need sequential access.\n",
        "\n",
        "**19. Why dictionaries are unordered, and effect on retrieval.**  \n",
        "They use hash tables, so order is not guaranteed (though Python 3.7+ preserves insertion order). Retrieval is by key, not position.\n",
        "\n",
        "**20. Difference between list and dictionary in terms of retrieval.**  \n",
        "- List: access by index.  \n",
        "- Dictionary: access by key.\n"
      ]
    },
    {
      "cell_type": "markdown",
      "id": "caa6e944",
      "metadata": {
        "id": "caa6e944"
      },
      "source": [
        "## Practical Questions — Solutions"
      ]
    },
    {
      "cell_type": "markdown",
      "id": "9fafc91c",
      "metadata": {
        "id": "9fafc91c"
      },
      "source": [
        "### 1. Create a string with your name and print it"
      ]
    },
    {
      "cell_type": "code",
      "execution_count": 1,
      "id": "3a3593ca",
      "metadata": {
        "colab": {
          "base_uri": "https://localhost:8080/"
        },
        "id": "3a3593ca",
        "outputId": "dbe2c301-f726-41b8-c57a-e167492f9e59"
      },
      "outputs": [
        {
          "output_type": "stream",
          "name": "stdout",
          "text": [
            "Alice\n"
          ]
        }
      ],
      "source": [
        "name = 'Alice'\n",
        "print(name)"
      ]
    },
    {
      "cell_type": "markdown",
      "id": "f302735a",
      "metadata": {
        "id": "f302735a"
      },
      "source": [
        "### 2. Find length of 'Hello World'"
      ]
    },
    {
      "cell_type": "code",
      "execution_count": 2,
      "id": "306466ed",
      "metadata": {
        "colab": {
          "base_uri": "https://localhost:8080/"
        },
        "id": "306466ed",
        "outputId": "5ae50f0f-b4a4-4f8c-fcac-2ec731382974"
      },
      "outputs": [
        {
          "output_type": "stream",
          "name": "stdout",
          "text": [
            "11\n"
          ]
        }
      ],
      "source": [
        "s = 'Hello World'\n",
        "print(len(s))"
      ]
    },
    {
      "cell_type": "markdown",
      "id": "f88972b0",
      "metadata": {
        "id": "f88972b0"
      },
      "source": [
        "### 3. Slice first 3 characters from 'Python Programming'"
      ]
    },
    {
      "cell_type": "code",
      "execution_count": 3,
      "id": "18be007b",
      "metadata": {
        "colab": {
          "base_uri": "https://localhost:8080/"
        },
        "id": "18be007b",
        "outputId": "8088dbdf-8ae9-4556-f43f-b3814a612133"
      },
      "outputs": [
        {
          "output_type": "stream",
          "name": "stdout",
          "text": [
            "Pyt\n"
          ]
        }
      ],
      "source": [
        "s = 'Python Programming'\n",
        "print(s[:3])"
      ]
    },
    {
      "cell_type": "markdown",
      "id": "f136c2dd",
      "metadata": {
        "id": "f136c2dd"
      },
      "source": [
        "### 4. Convert 'hello' to uppercase"
      ]
    },
    {
      "cell_type": "code",
      "execution_count": 4,
      "id": "013e1219",
      "metadata": {
        "colab": {
          "base_uri": "https://localhost:8080/"
        },
        "id": "013e1219",
        "outputId": "9e71f99a-0456-44d5-c2a0-0001c3d53530"
      },
      "outputs": [
        {
          "output_type": "stream",
          "name": "stdout",
          "text": [
            "HELLO\n"
          ]
        }
      ],
      "source": [
        "print('hello'.upper())"
      ]
    },
    {
      "cell_type": "markdown",
      "id": "2dcb6ae8",
      "metadata": {
        "id": "2dcb6ae8"
      },
      "source": [
        "### 5. Replace 'apple' with 'orange' in 'I like apple'"
      ]
    },
    {
      "cell_type": "code",
      "execution_count": 5,
      "id": "c431393a",
      "metadata": {
        "colab": {
          "base_uri": "https://localhost:8080/"
        },
        "id": "c431393a",
        "outputId": "44bac3e9-f53e-461a-98c8-136998b95e34"
      },
      "outputs": [
        {
          "output_type": "stream",
          "name": "stdout",
          "text": [
            "I like orange\n"
          ]
        }
      ],
      "source": [
        "s = 'I like apple'\n",
        "print(s.replace('apple', 'orange'))"
      ]
    },
    {
      "cell_type": "markdown",
      "id": "1816f450",
      "metadata": {
        "id": "1816f450"
      },
      "source": [
        "### 6. Create a list with numbers 1 to 5 and print it"
      ]
    },
    {
      "cell_type": "code",
      "execution_count": 6,
      "id": "d13195af",
      "metadata": {
        "colab": {
          "base_uri": "https://localhost:8080/"
        },
        "id": "d13195af",
        "outputId": "992872f3-f7d0-447e-a745-999ea91de7c4"
      },
      "outputs": [
        {
          "output_type": "stream",
          "name": "stdout",
          "text": [
            "[1, 2, 3, 4, 5]\n"
          ]
        }
      ],
      "source": [
        "lst = [1,2,3,4,5]\n",
        "print(lst)"
      ]
    },
    {
      "cell_type": "markdown",
      "id": "ba3ff966",
      "metadata": {
        "id": "ba3ff966"
      },
      "source": [
        "### 7. Append 10 to [1,2,3,4]"
      ]
    },
    {
      "cell_type": "code",
      "execution_count": 7,
      "id": "ca8a250a",
      "metadata": {
        "colab": {
          "base_uri": "https://localhost:8080/"
        },
        "id": "ca8a250a",
        "outputId": "f5d75298-a55f-4140-df33-4c9c625ba8cc"
      },
      "outputs": [
        {
          "output_type": "stream",
          "name": "stdout",
          "text": [
            "[1, 2, 3, 4, 10]\n"
          ]
        }
      ],
      "source": [
        "lst = [1,2,3,4]\n",
        "lst.append(10)\n",
        "print(lst)"
      ]
    },
    {
      "cell_type": "markdown",
      "id": "dc0353c4",
      "metadata": {
        "id": "dc0353c4"
      },
      "source": [
        "### 8. Remove 3 from [1,2,3,4,5]"
      ]
    },
    {
      "cell_type": "code",
      "execution_count": 8,
      "id": "77c1560b",
      "metadata": {
        "colab": {
          "base_uri": "https://localhost:8080/"
        },
        "id": "77c1560b",
        "outputId": "5b8cdd2b-c37a-4abe-cfc8-113d5b76c12b"
      },
      "outputs": [
        {
          "output_type": "stream",
          "name": "stdout",
          "text": [
            "[1, 2, 4, 5]\n"
          ]
        }
      ],
      "source": [
        "lst = [1,2,3,4,5]\n",
        "lst.remove(3)\n",
        "print(lst)"
      ]
    },
    {
      "cell_type": "markdown",
      "id": "4592160f",
      "metadata": {
        "id": "4592160f"
      },
      "source": [
        "### 9. Access 2nd element in ['a','b','c','d']"
      ]
    },
    {
      "cell_type": "code",
      "execution_count": 9,
      "id": "d6e83def",
      "metadata": {
        "colab": {
          "base_uri": "https://localhost:8080/"
        },
        "id": "d6e83def",
        "outputId": "ac683ef8-f6bf-4a39-b5c5-ed2e7d46904f"
      },
      "outputs": [
        {
          "output_type": "stream",
          "name": "stdout",
          "text": [
            "b\n"
          ]
        }
      ],
      "source": [
        "lst = ['a','b','c','d']\n",
        "print(lst[1])"
      ]
    },
    {
      "cell_type": "markdown",
      "id": "7986101a",
      "metadata": {
        "id": "7986101a"
      },
      "source": [
        "### 10. Reverse [10,20,30,40,50]"
      ]
    },
    {
      "cell_type": "code",
      "execution_count": 10,
      "id": "506b3759",
      "metadata": {
        "colab": {
          "base_uri": "https://localhost:8080/"
        },
        "id": "506b3759",
        "outputId": "8c7deda1-e144-4c86-c55a-74f565711fc5"
      },
      "outputs": [
        {
          "output_type": "stream",
          "name": "stdout",
          "text": [
            "[50, 40, 30, 20, 10]\n"
          ]
        }
      ],
      "source": [
        "lst = [10,20,30,40,50]\n",
        "lst.reverse()\n",
        "print(lst)"
      ]
    },
    {
      "cell_type": "markdown",
      "id": "0c58979f",
      "metadata": {
        "id": "0c58979f"
      },
      "source": [
        "### 11. Create tuple (100,200,300)"
      ]
    },
    {
      "cell_type": "code",
      "execution_count": 11,
      "id": "389c4cee",
      "metadata": {
        "colab": {
          "base_uri": "https://localhost:8080/"
        },
        "id": "389c4cee",
        "outputId": "60366533-a000-443f-bf08-07f4c1d2ca3e"
      },
      "outputs": [
        {
          "output_type": "stream",
          "name": "stdout",
          "text": [
            "(100, 200, 300)\n"
          ]
        }
      ],
      "source": [
        "t = (100,200,300)\n",
        "print(t)"
      ]
    },
    {
      "cell_type": "markdown",
      "id": "3bfe3c70",
      "metadata": {
        "id": "3bfe3c70"
      },
      "source": [
        "### 12. Access second-to-last element of ('red','green','blue','yellow')"
      ]
    },
    {
      "cell_type": "code",
      "execution_count": 12,
      "id": "67f5cfd2",
      "metadata": {
        "colab": {
          "base_uri": "https://localhost:8080/"
        },
        "id": "67f5cfd2",
        "outputId": "e09fd975-02c4-4d9f-aa2c-117b3a533344"
      },
      "outputs": [
        {
          "output_type": "stream",
          "name": "stdout",
          "text": [
            "blue\n"
          ]
        }
      ],
      "source": [
        "t = ('red','green','blue','yellow')\n",
        "print(t[-2])"
      ]
    },
    {
      "cell_type": "markdown",
      "id": "808724a8",
      "metadata": {
        "id": "808724a8"
      },
      "source": [
        "### 13. Find min in (10,20,5,15)"
      ]
    },
    {
      "cell_type": "code",
      "execution_count": 13,
      "id": "6b518bc7",
      "metadata": {
        "colab": {
          "base_uri": "https://localhost:8080/"
        },
        "id": "6b518bc7",
        "outputId": "986179d9-6ca3-4463-c04f-94597e2a050a"
      },
      "outputs": [
        {
          "output_type": "stream",
          "name": "stdout",
          "text": [
            "5\n"
          ]
        }
      ],
      "source": [
        "t = (10,20,5,15)\n",
        "print(min(t))"
      ]
    },
    {
      "cell_type": "markdown",
      "id": "c407b45a",
      "metadata": {
        "id": "c407b45a"
      },
      "source": [
        "### 14. Find index of 'cat' in ('dog','cat','rabbit')"
      ]
    },
    {
      "cell_type": "code",
      "execution_count": 14,
      "id": "992e4c6b",
      "metadata": {
        "colab": {
          "base_uri": "https://localhost:8080/"
        },
        "id": "992e4c6b",
        "outputId": "0cf4b4aa-1f8c-4d6b-fb5c-b25913692c6c"
      },
      "outputs": [
        {
          "output_type": "stream",
          "name": "stdout",
          "text": [
            "1\n"
          ]
        }
      ],
      "source": [
        "t = ('dog','cat','rabbit')\n",
        "print(t.index('cat'))"
      ]
    },
    {
      "cell_type": "markdown",
      "id": "e907be45",
      "metadata": {
        "id": "e907be45"
      },
      "source": [
        "### 15. Create tuple of fruits and check 'kiwi'"
      ]
    },
    {
      "cell_type": "code",
      "execution_count": 15,
      "id": "f859ae70",
      "metadata": {
        "colab": {
          "base_uri": "https://localhost:8080/"
        },
        "id": "f859ae70",
        "outputId": "1d459baf-c5c0-41b5-8630-466b50ccc120"
      },
      "outputs": [
        {
          "output_type": "stream",
          "name": "stdout",
          "text": [
            "False\n"
          ]
        }
      ],
      "source": [
        "fruits = ('apple','banana','cherry')\n",
        "print('kiwi' in fruits)"
      ]
    },
    {
      "cell_type": "markdown",
      "id": "6b4881ba",
      "metadata": {
        "id": "6b4881ba"
      },
      "source": [
        "### 16. Create set {'a','b','c'}"
      ]
    },
    {
      "cell_type": "code",
      "execution_count": 16,
      "id": "7b0f75d9",
      "metadata": {
        "colab": {
          "base_uri": "https://localhost:8080/"
        },
        "id": "7b0f75d9",
        "outputId": "c2e7de2b-34b7-482f-c070-da7e273081f8"
      },
      "outputs": [
        {
          "output_type": "stream",
          "name": "stdout",
          "text": [
            "{'a', 'b', 'c'}\n"
          ]
        }
      ],
      "source": [
        "s = {'a','b','c'}\n",
        "print(s)"
      ]
    },
    {
      "cell_type": "markdown",
      "id": "85716ab6",
      "metadata": {
        "id": "85716ab6"
      },
      "source": [
        "### 17. Clear all elements from {1,2,3,4,5}"
      ]
    },
    {
      "cell_type": "code",
      "execution_count": 17,
      "id": "2c3140b6",
      "metadata": {
        "colab": {
          "base_uri": "https://localhost:8080/"
        },
        "id": "2c3140b6",
        "outputId": "629e5ac1-3e2e-4ef5-99fb-7b624999e548"
      },
      "outputs": [
        {
          "output_type": "stream",
          "name": "stdout",
          "text": [
            "set()\n"
          ]
        }
      ],
      "source": [
        "s = {1,2,3,4,5}\n",
        "s.clear()\n",
        "print(s)"
      ]
    },
    {
      "cell_type": "markdown",
      "id": "f7c0e23b",
      "metadata": {
        "id": "f7c0e23b"
      },
      "source": [
        "### 18. Remove 4 from {1,2,3,4}"
      ]
    },
    {
      "cell_type": "code",
      "execution_count": 18,
      "id": "5bd85546",
      "metadata": {
        "colab": {
          "base_uri": "https://localhost:8080/"
        },
        "id": "5bd85546",
        "outputId": "91915508-115b-4b8e-9d2e-70174f84c98b"
      },
      "outputs": [
        {
          "output_type": "stream",
          "name": "stdout",
          "text": [
            "{1, 2, 3}\n"
          ]
        }
      ],
      "source": [
        "s = {1,2,3,4}\n",
        "s.remove(4)\n",
        "print(s)"
      ]
    },
    {
      "cell_type": "markdown",
      "id": "12b55738",
      "metadata": {
        "id": "12b55738"
      },
      "source": [
        "### 19. Union of {1,2,3} and {3,4,5}"
      ]
    },
    {
      "cell_type": "code",
      "execution_count": 19,
      "id": "7b6a21da",
      "metadata": {
        "colab": {
          "base_uri": "https://localhost:8080/"
        },
        "id": "7b6a21da",
        "outputId": "01f70b50-dd5c-43a1-b034-6dd4a98ea670"
      },
      "outputs": [
        {
          "output_type": "stream",
          "name": "stdout",
          "text": [
            "{1, 2, 3, 4, 5}\n"
          ]
        }
      ],
      "source": [
        "a = {1,2,3}\n",
        "b = {3,4,5}\n",
        "print(a|b)"
      ]
    },
    {
      "cell_type": "markdown",
      "id": "028a61c9",
      "metadata": {
        "id": "028a61c9"
      },
      "source": [
        "### 20. Intersection of {1,2,3} and {2,3,4}"
      ]
    },
    {
      "cell_type": "code",
      "execution_count": 20,
      "id": "6853302e",
      "metadata": {
        "colab": {
          "base_uri": "https://localhost:8080/"
        },
        "id": "6853302e",
        "outputId": "a8bd1367-aa5c-43e1-a31b-7cb55151bd3b"
      },
      "outputs": [
        {
          "output_type": "stream",
          "name": "stdout",
          "text": [
            "{2, 3}\n"
          ]
        }
      ],
      "source": [
        "a = {1,2,3}\n",
        "b = {2,3,4}\n",
        "print(a & b)"
      ]
    },
    {
      "cell_type": "markdown",
      "id": "bc38d9e3",
      "metadata": {
        "id": "bc38d9e3"
      },
      "source": [
        "### 21. Create dictionary with keys name, age, city"
      ]
    },
    {
      "cell_type": "code",
      "execution_count": 21,
      "id": "a799729b",
      "metadata": {
        "colab": {
          "base_uri": "https://localhost:8080/"
        },
        "id": "a799729b",
        "outputId": "bc718df3-f77a-4104-f4af-7b81de9e2b17"
      },
      "outputs": [
        {
          "output_type": "stream",
          "name": "stdout",
          "text": [
            "{'name': 'Alice', 'age': 25, 'city': 'Paris'}\n"
          ]
        }
      ],
      "source": [
        "d = {'name':'Alice','age':25,'city':'Paris'}\n",
        "print(d)"
      ]
    },
    {
      "cell_type": "markdown",
      "id": "13154298",
      "metadata": {
        "id": "13154298"
      },
      "source": [
        "### 22. Add key 'country':'USA'"
      ]
    },
    {
      "cell_type": "code",
      "execution_count": 22,
      "id": "69091bbb",
      "metadata": {
        "colab": {
          "base_uri": "https://localhost:8080/"
        },
        "id": "69091bbb",
        "outputId": "e4006181-d14c-4b2c-9da5-1529d6233e08"
      },
      "outputs": [
        {
          "output_type": "stream",
          "name": "stdout",
          "text": [
            "{'name': 'John', 'age': 25, 'country': 'USA'}\n"
          ]
        }
      ],
      "source": [
        "d = {'name':'John','age':25}\n",
        "d['country']='USA'\n",
        "print(d)"
      ]
    },
    {
      "cell_type": "markdown",
      "id": "05bb9c78",
      "metadata": {
        "id": "05bb9c78"
      },
      "source": [
        "### 23. Access value of key 'name'"
      ]
    },
    {
      "cell_type": "code",
      "execution_count": 23,
      "id": "c97a0818",
      "metadata": {
        "colab": {
          "base_uri": "https://localhost:8080/"
        },
        "id": "c97a0818",
        "outputId": "03d0ac36-b9f2-4217-e084-26794a9b8f65"
      },
      "outputs": [
        {
          "output_type": "stream",
          "name": "stdout",
          "text": [
            "Alice\n"
          ]
        }
      ],
      "source": [
        "d = {'name':'Alice','age':30}\n",
        "print(d['name'])"
      ]
    },
    {
      "cell_type": "markdown",
      "id": "85e75819",
      "metadata": {
        "id": "85e75819"
      },
      "source": [
        "### 24. Remove key 'age'"
      ]
    },
    {
      "cell_type": "code",
      "execution_count": 24,
      "id": "0f7ccd44",
      "metadata": {
        "colab": {
          "base_uri": "https://localhost:8080/"
        },
        "id": "0f7ccd44",
        "outputId": "cc99dfb6-6338-4e18-836d-57d6e9ae0eb9"
      },
      "outputs": [
        {
          "output_type": "stream",
          "name": "stdout",
          "text": [
            "{'name': 'Bob', 'city': 'New York'}\n"
          ]
        }
      ],
      "source": [
        "d = {'name':'Bob','age':22,'city':'New York'}\n",
        "d.pop('age')\n",
        "print(d)"
      ]
    },
    {
      "cell_type": "markdown",
      "id": "ca64f629",
      "metadata": {
        "id": "ca64f629"
      },
      "source": [
        "### 25. Check if 'city' key exists"
      ]
    },
    {
      "cell_type": "code",
      "execution_count": 25,
      "id": "14d8e591",
      "metadata": {
        "colab": {
          "base_uri": "https://localhost:8080/"
        },
        "id": "14d8e591",
        "outputId": "fd416216-68a7-4365-a59b-22f20ab6c67a"
      },
      "outputs": [
        {
          "output_type": "stream",
          "name": "stdout",
          "text": [
            "True\n"
          ]
        }
      ],
      "source": [
        "d = {'name':'Alice','city':'Paris'}\n",
        "print('city' in d)"
      ]
    },
    {
      "cell_type": "markdown",
      "id": "69bbd56f",
      "metadata": {
        "id": "69bbd56f"
      },
      "source": [
        "### 26. Create list, tuple, dictionary and print"
      ]
    },
    {
      "cell_type": "code",
      "execution_count": 26,
      "id": "8c66273a",
      "metadata": {
        "colab": {
          "base_uri": "https://localhost:8080/"
        },
        "id": "8c66273a",
        "outputId": "96b58d55-ecae-4395-907f-cec54fc809c6"
      },
      "outputs": [
        {
          "output_type": "stream",
          "name": "stdout",
          "text": [
            "[1, 2, 3] (4, 5, 6) {'a': 1, 'b': 2}\n"
          ]
        }
      ],
      "source": [
        "lst = [1,2,3]\n",
        "tup = (4,5,6)\n",
        "d = {'a':1,'b':2}\n",
        "print(lst, tup, d)"
      ]
    },
    {
      "cell_type": "markdown",
      "id": "a5a4ea2f",
      "metadata": {
        "id": "a5a4ea2f"
      },
      "source": [
        "### 27. Random list of 5 numbers 1-100, sorted"
      ]
    },
    {
      "cell_type": "code",
      "execution_count": 27,
      "id": "314c7367",
      "metadata": {
        "colab": {
          "base_uri": "https://localhost:8080/"
        },
        "id": "314c7367",
        "outputId": "41df2506-9b8f-449d-ed80-06b1f4e37bd0"
      },
      "outputs": [
        {
          "output_type": "stream",
          "name": "stdout",
          "text": [
            "[24, 27, 35, 53, 76]\n"
          ]
        }
      ],
      "source": [
        "import random\n",
        "lst = random.sample(range(1,101),5)\n",
        "lst.sort()\n",
        "print(lst)"
      ]
    },
    {
      "cell_type": "markdown",
      "id": "c5c2fefe",
      "metadata": {
        "id": "c5c2fefe"
      },
      "source": [
        "### 28. List with strings, print element at index 3"
      ]
    },
    {
      "cell_type": "code",
      "execution_count": 28,
      "id": "2c8b6da5",
      "metadata": {
        "colab": {
          "base_uri": "https://localhost:8080/"
        },
        "id": "2c8b6da5",
        "outputId": "4ce3d9be-6938-4d81-f09d-4d2cfb4137e8"
      },
      "outputs": [
        {
          "output_type": "stream",
          "name": "stdout",
          "text": [
            "w\n"
          ]
        }
      ],
      "source": [
        "lst = ['x','y','z','w','v']\n",
        "print(lst[3])"
      ]
    },
    {
      "cell_type": "markdown",
      "id": "66e5457e",
      "metadata": {
        "id": "66e5457e"
      },
      "source": [
        "### 29. Combine two dictionaries"
      ]
    },
    {
      "cell_type": "code",
      "execution_count": 29,
      "id": "6eb46f54",
      "metadata": {
        "colab": {
          "base_uri": "https://localhost:8080/"
        },
        "id": "6eb46f54",
        "outputId": "62d67678-e157-4827-d56e-200a842c3d39"
      },
      "outputs": [
        {
          "output_type": "stream",
          "name": "stdout",
          "text": [
            "{'a': 1, 'b': 2, 'c': 3, 'd': 4}\n"
          ]
        }
      ],
      "source": [
        "d1 = {'a':1,'b':2}\n",
        "d2 = {'c':3,'d':4}\n",
        "combined = {**d1, **d2}\n",
        "print(combined)"
      ]
    },
    {
      "cell_type": "markdown",
      "id": "d2e00c7e",
      "metadata": {
        "id": "d2e00c7e"
      },
      "source": [
        "### 30. Convert list of strings to set"
      ]
    },
    {
      "cell_type": "code",
      "execution_count": 30,
      "id": "87ee8b71",
      "metadata": {
        "colab": {
          "base_uri": "https://localhost:8080/"
        },
        "id": "87ee8b71",
        "outputId": "b0fe87b8-340c-4672-f97f-f46db99051cc"
      },
      "outputs": [
        {
          "output_type": "stream",
          "name": "stdout",
          "text": [
            "{'a', 'b', 'c'}\n"
          ]
        }
      ],
      "source": [
        "lst = ['a','b','c','a']\n",
        "print(set(lst))"
      ]
    }
  ],
  "metadata": {
    "colab": {
      "provenance": [],
      "include_colab_link": true
    },
    "language_info": {
      "name": "python"
    },
    "kernelspec": {
      "name": "python3",
      "display_name": "Python 3"
    }
  },
  "nbformat": 4,
  "nbformat_minor": 5
}