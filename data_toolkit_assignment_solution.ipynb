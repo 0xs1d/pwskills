{
  "cells": [
    {
      "cell_type": "markdown",
      "metadata": {
        "id": "view-in-github",
        "colab_type": "text"
      },
      "source": [
        "<a href=\"https://colab.research.google.com/github/0xs1d/pwskills/blob/main/data_toolkit_assignment_solution.ipynb\" target=\"_parent\"><img src=\"https://colab.research.google.com/assets/colab-badge.svg\" alt=\"Open In Colab\"/></a>"
      ]
    },
    {
      "cell_type": "markdown",
      "id": "0e6cb97d",
      "metadata": {
        "id": "0e6cb97d"
      },
      "source": [
        "# Data Toolkit — Assignment Solutions\n",
        "\n",
        "This notebook contains theory answers and runnable Python code for the **Data Toolkit Assignment**.\n",
        "\n",
        "**Date:** 2025-10-09\n"
      ]
    },
    {
      "cell_type": "markdown",
      "id": "5e928a89",
      "metadata": {
        "id": "5e928a89"
      },
      "source": [
        "## Theory Questions\n",
        "\n",
        "**1. What is NumPy, and why is it widely used in Python?**  \n",
        "NumPy is a library for numerical computing with efficient array manipulation and mathematical functions. It is widely used for data science and machine learning because of its speed and simplicity.\n",
        "\n",
        "**2. How does broadcasting work in NumPy?**  \n",
        "Broadcasting enables operations between arrays of different shapes by automatically expanding the smaller array along the mismatched dimensions.\n",
        "\n",
        "**3. What is a Pandas DataFrame?**  \n",
        "A 2D labeled data structure similar to a spreadsheet or SQL table with rows and columns.\n",
        "\n",
        "**4. Explain the use of the groupby() method in Pandas.**  \n",
        "`groupby()` groups rows based on a key and allows operations like sum, mean, or count on each group.\n",
        "\n",
        "**5. Why is Seaborn preferred for statistical visualizations?**  \n",
        "It provides easy, attractive, and statistically rich visualizations built on Matplotlib.\n",
        "\n",
        "**6. Differences between NumPy arrays and Python lists.**  \n",
        "- Arrays are fixed-type and faster.  \n",
        "- Lists can store mixed data types but are slower.\n",
        "\n",
        "**7. What is a heatmap, and when should it be used?**  \n",
        "A heatmap visualizes data using colors, often used for correlation matrices.\n",
        "\n",
        "**8. What does “vectorized operation” mean in NumPy?**  \n",
        "Operations applied directly on arrays without explicit loops, making computation faster.\n",
        "\n",
        "**9. How does Matplotlib differ from Plotly?**  \n",
        "Matplotlib produces static plots, while Plotly provides interactive and web-based plots.\n",
        "\n",
        "**10. Significance of hierarchical indexing in Pandas.**  \n",
        "It allows multiple index levels, useful for representing higher-dimensional data in a 2D structure.\n",
        "\n",
        "**11. Role of Seaborn’s pairplot() function.**  \n",
        "Plots pairwise relationships among numeric variables.\n",
        "\n",
        "**12. Purpose of describe() in Pandas.**  \n",
        "Provides statistical summaries like mean, std, min, and max for numerical columns.\n",
        "\n",
        "**13. Why is handling missing data important?**  \n",
        "Missing data can lead to inaccurate or biased results.\n",
        "\n",
        "**14. Benefits of Plotly for visualization.**  \n",
        "Interactive, web-based, and supports 3D visualizations.\n",
        "\n",
        "**15. How does NumPy handle multidimensional arrays?**  \n",
        "Using the `ndarray` object, which supports N-dimensional data with broadcasting and indexing.\n",
        "\n",
        "**16. Role of Bokeh in visualization.**  \n",
        "Bokeh creates interactive web visualizations similar to Plotly.\n",
        "\n",
        "**17. Difference between apply() and map() in Pandas.**  \n",
        "- `map()` applies a function to each element of a Series.  \n",
        "- `apply()` applies a function across rows or columns of a DataFrame.\n",
        "\n",
        "**18. Advanced features of NumPy.**  \n",
        "Linear algebra, broadcasting, random sampling, masked arrays, and FFT operations.\n",
        "\n",
        "**19. How does Pandas simplify time series analysis?**  \n",
        "By providing datetime indexing, resampling, shifting, and rolling functions.\n",
        "\n",
        "**20. Role of a pivot table in Pandas.**  \n",
        "Summarizes and aggregates data like Excel pivot tables.\n",
        "\n",
        "**21. Why is NumPy slicing faster than Python list slicing?**  \n",
        "Implemented in C, operating on contiguous memory blocks.\n",
        "\n",
        "**22. Common use cases for Seaborn.**  \n",
        "Regression, correlation plots, histograms, and distribution visualizations.\n"
      ]
    },
    {
      "cell_type": "markdown",
      "id": "8a1c672b",
      "metadata": {
        "id": "8a1c672b"
      },
      "source": [
        "## Practical Questions — Solutions"
      ]
    },
    {
      "cell_type": "markdown",
      "id": "04a90c58",
      "metadata": {
        "id": "04a90c58"
      },
      "source": [
        "### 1. Create a 2D NumPy array and calculate the sum of each row"
      ]
    },
    {
      "cell_type": "code",
      "execution_count": 1,
      "id": "d19b32b6",
      "metadata": {
        "id": "d19b32b6",
        "outputId": "002dcec6-e863-4b75-cda8-1820c08ab693",
        "colab": {
          "base_uri": "https://localhost:8080/"
        }
      },
      "outputs": [
        {
          "output_type": "stream",
          "name": "stdout",
          "text": [
            "Row sums: [ 6 15 24]\n"
          ]
        }
      ],
      "source": [
        "import numpy as np\n",
        "arr = np.array([[1,2,3],[4,5,6],[7,8,9]])\n",
        "print('Row sums:', arr.sum(axis=1))"
      ]
    },
    {
      "cell_type": "markdown",
      "id": "9888e260",
      "metadata": {
        "id": "9888e260"
      },
      "source": [
        "### 2. Find the mean of a column in a Pandas DataFrame"
      ]
    },
    {
      "cell_type": "code",
      "execution_count": 2,
      "id": "a4dd346a",
      "metadata": {
        "id": "a4dd346a",
        "outputId": "0ecb3c0e-2b9d-4546-fb1b-f8390dbd6ab2",
        "colab": {
          "base_uri": "https://localhost:8080/"
        }
      },
      "outputs": [
        {
          "output_type": "stream",
          "name": "stdout",
          "text": [
            "Mean of column A: 20.0\n"
          ]
        }
      ],
      "source": [
        "import pandas as pd\n",
        "df = pd.DataFrame({'A':[10,20,30],'B':[5,15,25]})\n",
        "print('Mean of column A:', df['A'].mean())"
      ]
    },
    {
      "cell_type": "markdown",
      "id": "6c7fc605",
      "metadata": {
        "id": "6c7fc605"
      },
      "source": [
        "### 3. Create a scatter plot using Matplotlib"
      ]
    },
    {
      "cell_type": "code",
      "execution_count": 3,
      "id": "0c643fdd",
      "metadata": {
        "id": "0c643fdd",
        "outputId": "ab838460-31d5-4161-d093-0bda7621f28c",
        "colab": {
          "base_uri": "https://localhost:8080/",
          "height": 472
        }
      },
      "outputs": [
        {
          "output_type": "display_data",
          "data": {
            "text/plain": [
              "<Figure size 640x480 with 1 Axes>"
            ],
            "image/png": "[encoded data removed]"
          },
          "metadata": {}
        }
      ],
      "source": [
        "import matplotlib.pyplot as plt\n",
        "x = [1,2,3,4,5]\n",
        "y = [2,4,1,8,7]\n",
        "plt.scatter(x,y)\n",
        "plt.title('Scatter Plot')\n",
        "plt.xlabel('X')\n",
        "plt.ylabel('Y')\n",
        "plt.show()"
      ]
    },
    {
      "cell_type": "markdown",
      "id": "7c997dba",
      "metadata": {
        "id": "7c997dba"
      },
      "source": [
        "### 4. Correlation matrix and heatmap using Seaborn"
      ]
    },
    {
      "cell_type": "code",
      "execution_count": 4,
      "id": "bfe17001",
      "metadata": {
        "id": "bfe17001",
        "outputId": "65957323-6ed3-451e-eda0-053b034eb29e",
        "colab": {
          "base_uri": "https://localhost:8080/",
          "height": 452
        }
      },
      "outputs": [
        {
          "output_type": "execute_result",
          "data": {
            "text/plain": [
              "<Axes: >"
            ]
          },
          "metadata": {},
          "execution_count": 4
        },
        {
          "output_type": "display_data",
          "data": {
            "text/plain": [
              "<Figure size 640x480 with 2 Axes>"
            ],
            "image/png": "[encoded data removed]"
          },
          "metadata": {}
        }
      ],
      "source": [
        "import seaborn as sns\n",
        "import pandas as pd\n",
        "import numpy as np\n",
        "data = pd.DataFrame(np.random.rand(5,4), columns=list('ABCD'))\n",
        "sns.heatmap(data.corr(), annot=True, cmap='coolwarm')"
      ]
    },
    {
      "cell_type": "markdown",
      "id": "d2d4d7ad",
      "metadata": {
        "id": "d2d4d7ad"
      },
      "source": [
        "### 5. Bar plot using Plotly"
      ]
    },
    {
      "cell_type": "code",
      "execution_count": null,
      "id": "d19b2c2a",
      "metadata": {
        "id": "d19b2c2a"
      },
      "outputs": [],
      "source": [
        "import plotly.express as px\n",
        "data = {'Fruit':['Apple','Banana','Cherry'],'Count':[10,20,15]}\n",
        "fig = px.bar(data, x='Fruit', y='Count', title='Fruit Count')\n",
        "fig.show()"
      ]
    },
    {
      "cell_type": "markdown",
      "id": "37d2acdd",
      "metadata": {
        "id": "37d2acdd"
      },
      "source": [
        "### 6. Add a new column to a DataFrame"
      ]
    },
    {
      "cell_type": "code",
      "execution_count": null,
      "id": "7e01d4d2",
      "metadata": {
        "id": "7e01d4d2"
      },
      "outputs": [],
      "source": [
        "df = pd.DataFrame({'A':[1,2,3]})\n",
        "df['B'] = df['A']*2\n",
        "print(df)"
      ]
    },
    {
      "cell_type": "markdown",
      "id": "4b5a16bb",
      "metadata": {
        "id": "4b5a16bb"
      },
      "source": [
        "### 7. Element-wise multiplication of two NumPy arrays"
      ]
    },
    {
      "cell_type": "code",
      "execution_count": null,
      "id": "e77959b6",
      "metadata": {
        "id": "e77959b6"
      },
      "outputs": [],
      "source": [
        "a = np.array([1,2,3])\n",
        "b = np.array([4,5,6])\n",
        "print('Result:', a*b)"
      ]
    },
    {
      "cell_type": "markdown",
      "id": "a5524bc5",
      "metadata": {
        "id": "a5524bc5"
      },
      "source": [
        "### 8. Line plot with multiple lines using Matplotlib"
      ]
    },
    {
      "cell_type": "code",
      "execution_count": null,
      "id": "906a3581",
      "metadata": {
        "id": "906a3581"
      },
      "outputs": [],
      "source": [
        "x = [1,2,3,4]\n",
        "y1 = [1,4,9,16]\n",
        "y2 = [2,3,5,7]\n",
        "plt.plot(x, y1, label='y1')\n",
        "plt.plot(x, y2, label='y2')\n",
        "plt.legend()\n",
        "plt.show()"
      ]
    },
    {
      "cell_type": "markdown",
      "id": "09cc1013",
      "metadata": {
        "id": "09cc1013"
      },
      "source": [
        "### 9. Filter DataFrame rows where a column value is greater than a threshold"
      ]
    },
    {
      "cell_type": "code",
      "execution_count": null,
      "id": "e5076999",
      "metadata": {
        "id": "e5076999"
      },
      "outputs": [],
      "source": [
        "df = pd.DataFrame({'A':[10,50,30,70],'B':[5,15,25,35]})\n",
        "filtered = df[df['A']>40]\n",
        "print(filtered)"
      ]
    },
    {
      "cell_type": "markdown",
      "id": "5c108a6f",
      "metadata": {
        "id": "5c108a6f"
      },
      "source": [
        "### 10. Create a histogram using Seaborn"
      ]
    },
    {
      "cell_type": "code",
      "execution_count": null,
      "id": "e0501129",
      "metadata": {
        "id": "e0501129"
      },
      "outputs": [],
      "source": [
        "sns.histplot([1,2,2,3,3,3,4,4,4,4], kde=True)"
      ]
    },
    {
      "cell_type": "markdown",
      "id": "1ba369c9",
      "metadata": {
        "id": "1ba369c9"
      },
      "source": [
        "### 11. Perform matrix multiplication using NumPy"
      ]
    },
    {
      "cell_type": "code",
      "execution_count": null,
      "id": "c472ff9a",
      "metadata": {
        "id": "c472ff9a"
      },
      "outputs": [],
      "source": [
        "A = np.array([[1,2],[3,4]])\n",
        "B = np.array([[5,6],[7,8]])\n",
        "print('Matrix product:\\n', np.dot(A,B))"
      ]
    },
    {
      "cell_type": "markdown",
      "id": "18e019b7",
      "metadata": {
        "id": "18e019b7"
      },
      "source": [
        "### 12. Load a CSV file and display first 5 rows using Pandas"
      ]
    },
    {
      "cell_type": "code",
      "execution_count": null,
      "id": "443d7b10",
      "metadata": {
        "id": "443d7b10"
      },
      "outputs": [],
      "source": [
        "# df = pd.read_csv('data.csv')\n",
        "# print(df.head())\n",
        "print('Example code provided; uncomment to use with a real file.')"
      ]
    },
    {
      "cell_type": "markdown",
      "id": "a211ef5e",
      "metadata": {
        "id": "a211ef5e"
      },
      "source": [
        "### 13. Create a 3D scatter plot using Plotly"
      ]
    },
    {
      "cell_type": "code",
      "execution_count": null,
      "id": "e0a2607f",
      "metadata": {
        "id": "e0a2607f"
      },
      "outputs": [],
      "source": [
        "import plotly.graph_objects as go\n",
        "fig = go.Figure(data=[go.Scatter3d(\n",
        "    x=[1,2,3], y=[4,5,6], z=[7,8,9], mode='markers')])\n",
        "fig.show()"
      ]
    }
  ],
  "metadata": {
    "colab": {
      "provenance": [],
      "include_colab_link": true
    },
    "language_info": {
      "name": "python"
    },
    "kernelspec": {
      "name": "python3",
      "display_name": "Python 3"
    }
  },
  "nbformat": 4,
  "nbformat_minor": 5
}