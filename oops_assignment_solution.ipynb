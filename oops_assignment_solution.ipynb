{
  "cells": [
    {
      "cell_type": "markdown",
      "metadata": {
        "id": "view-in-github",
        "colab_type": "text"
      },
      "source": [
        "<a href=\"https://colab.research.google.com/github/0xs1d/pwskills/blob/main/oops_assignment_solution.ipynb\" target=\"_parent\"><img src=\"https://colab.research.google.com/assets/colab-badge.svg\" alt=\"Open In Colab\"/></a>"
      ]
    },
    {
      "cell_type": "markdown",
      "id": "2b7ff269",
      "metadata": {
        "id": "2b7ff269"
      },
      "source": [
        "# Python OOPs — Assignment Solutions\n",
        "\n",
        "This notebook contains theory answers and runnable Python code for the OOPs assignment.\n",
        "\n",
        "**Date:** 2025-09-13\n"
      ]
    },
    {
      "cell_type": "markdown",
      "id": "c1faebd5",
      "metadata": {
        "id": "c1faebd5"
      },
      "source": [
        "## Theory Questions\n",
        "\n",
        "**1. What is Object-Oriented Programming (OOP)?**  \n",
        "OOP is a paradigm that structures code into objects that combine attributes and methods.\n",
        "\n",
        "**2. What is a class in OOP?**  \n",
        "A class is a blueprint for creating objects, defining attributes and methods.\n",
        "\n",
        "**3. What is an object in OOP?**  \n",
        "An object is an instance of a class.\n",
        "\n",
        "**4. Difference between abstraction and encapsulation.**  \n",
        "- Abstraction hides implementation details.  \n",
        "- Encapsulation restricts access to data and bundles data with methods.\n",
        "\n",
        "**5. Dunder methods in Python.**  \n",
        "Special double underscore methods like `__init__`, `__str__`, `__add__` define object behavior.\n",
        "\n",
        "**6. Inheritance.**  \n",
        "A child class inherits attributes/methods from a parent class.\n",
        "\n",
        "**7. Polymorphism.**  \n",
        "Different classes can provide different implementations for the same method name.\n",
        "\n",
        "**8. Encapsulation in Python.**  \n",
        "Private attributes with `__var`, access via getters/setters.\n",
        "\n",
        "**9. Constructor.**  \n",
        "`__init__` method initializes new objects.\n",
        "\n",
        "**10. Class vs static methods.**  \n",
        "- Class: use `cls` reference.  \n",
        "- Static: no `cls` or `self`, utility methods.\n",
        "\n",
        "**11. Method overloading.**  \n",
        "Simulated via default or variable arguments; not built-in.\n",
        "\n",
        "**12. Method overriding.**  \n",
        "Child class replaces a parent’s method.\n",
        "\n",
        "**13. Property decorator.**  \n",
        "`@property` turns a method into a readable attribute.\n",
        "\n",
        "**14. Why polymorphism is important.**  \n",
        "It allows writing flexible, reusable code.\n",
        "\n",
        "**15. Abstract class.**  \n",
        "Class with abstract methods defined using `abc.ABC`.\n",
        "\n",
        "**16. Advantages of OOP.**  \n",
        "Reusability, modularity, maintainability, abstraction.\n",
        "\n",
        "**17. Class vs instance variables.**  \n",
        "- Class: shared across all instances.  \n",
        "- Instance: unique per object.\n",
        "\n",
        "**18. Multiple inheritance.**  \n",
        "Class inherits from more than one base class.\n",
        "\n",
        "**19. Purpose of __str__ and __repr__.**  \n",
        "- `__str__`: human-readable.  \n",
        "- `__repr__`: developer/debug representation.\n",
        "\n",
        "**20. super().**  \n",
        "Calls parent methods/constructors.\n",
        "\n",
        "**21. __del__.**  \n",
        "Destructor called at object deletion.\n",
        "\n",
        "**22. @staticmethod vs @classmethod.**  \n",
        "- Static: no self/cls.  \n",
        "- Class: receives class reference.\n",
        "\n",
        "**23. Polymorphism with inheritance.**  \n",
        "Overriding parent methods in child classes.\n",
        "\n",
        "**24. Method chaining.**  \n",
        "Returning `self` lets you chain calls.\n",
        "\n",
        "**25. __call__.**  \n",
        "Allows object to be invoked like a function.\n"
      ]
    },
    {
      "cell_type": "markdown",
      "id": "4a4d3521",
      "metadata": {
        "id": "4a4d3521"
      },
      "source": [
        "## Practical Questions — Solutions"
      ]
    },
    {
      "cell_type": "markdown",
      "id": "fe7cf000",
      "metadata": {
        "id": "fe7cf000"
      },
      "source": [
        "### 1. Animal parent and Dog child class"
      ]
    },
    {
      "cell_type": "code",
      "execution_count": 1,
      "id": "7eb3c0b4",
      "metadata": {
        "colab": {
          "base_uri": "https://localhost:8080/"
        },
        "id": "7eb3c0b4",
        "outputId": "9eb7a04f-c944-46b2-8099-586545fba08d"
      },
      "outputs": [
        {
          "output_type": "stream",
          "name": "stdout",
          "text": [
            "Bark!\n"
          ]
        }
      ],
      "source": [
        "class Animal:\n",
        "    def speak(self):\n",
        "        print('Generic animal sound')\n",
        "\n",
        "class Dog(Animal):\n",
        "    def speak(self):\n",
        "        print('Bark!')\n",
        "\n",
        "Dog().speak()"
      ]
    },
    {
      "cell_type": "markdown",
      "id": "721bee4a",
      "metadata": {
        "id": "721bee4a"
      },
      "source": [
        "### 2. Abstract class Shape with Circle and Rectangle"
      ]
    },
    {
      "cell_type": "code",
      "execution_count": 2,
      "id": "8970a452",
      "metadata": {
        "colab": {
          "base_uri": "https://localhost:8080/"
        },
        "id": "8970a452",
        "outputId": "0ae6ea22-606c-4c9c-f08a-b79871a51659"
      },
      "outputs": [
        {
          "output_type": "stream",
          "name": "stdout",
          "text": [
            "78.5 24\n"
          ]
        }
      ],
      "source": [
        "from abc import ABC, abstractmethod\n",
        "\n",
        "class Shape(ABC):\n",
        "    @abstractmethod\n",
        "    def area(self): pass\n",
        "\n",
        "class Circle(Shape):\n",
        "    def __init__(self,r): self.r=r\n",
        "    def area(self): return 3.14*self.r*self.r\n",
        "\n",
        "class Rectangle(Shape):\n",
        "    def __init__(self,w,h): self.w=w; self.h=h\n",
        "    def area(self): return self.w*self.h\n",
        "\n",
        "print(Circle(5).area(), Rectangle(4,6).area())"
      ]
    },
    {
      "cell_type": "markdown",
      "id": "6c797c7c",
      "metadata": {
        "id": "6c797c7c"
      },
      "source": [
        "### 3. Multi-level inheritance Vehicle → Car → ElectricCar"
      ]
    },
    {
      "cell_type": "code",
      "execution_count": 3,
      "id": "9550861e",
      "metadata": {
        "colab": {
          "base_uri": "https://localhost:8080/"
        },
        "id": "9550861e",
        "outputId": "3442b555-477d-47ca-b6a9-d6470a1f8117"
      },
      "outputs": [
        {
          "output_type": "stream",
          "name": "stdout",
          "text": [
            "100\n"
          ]
        }
      ],
      "source": [
        "class Vehicle:\n",
        "    def __init__(self,t): self.type=t\n",
        "\n",
        "class Car(Vehicle):\n",
        "    def __init__(self,t,brand): super().__init__(t); self.brand=brand\n",
        "\n",
        "class ElectricCar(Car):\n",
        "    def __init__(self,t,brand,battery): super().__init__(t,brand); self.battery=battery\n",
        "\n",
        "print(ElectricCar('Four-wheeler','Tesla',100).battery)"
      ]
    },
    {
      "cell_type": "markdown",
      "id": "4526a9a7",
      "metadata": {
        "id": "4526a9a7"
      },
      "source": [
        "### 4. Polymorphism with Bird, Sparrow, Penguin"
      ]
    },
    {
      "cell_type": "code",
      "execution_count": 4,
      "id": "a1dc2491",
      "metadata": {
        "colab": {
          "base_uri": "https://localhost:8080/"
        },
        "id": "a1dc2491",
        "outputId": "fdf3e1f2-7119-417d-e0a5-fd75496eee2f"
      },
      "outputs": [
        {
          "output_type": "stream",
          "name": "stdout",
          "text": [
            "Sparrow flies high\n",
            "Penguins cannot fly\n"
          ]
        }
      ],
      "source": [
        "class Bird:\n",
        "    def fly(self): print('Some birds fly')\n",
        "\n",
        "class Sparrow(Bird):\n",
        "    def fly(self): print('Sparrow flies high')\n",
        "\n",
        "class Penguin(Bird):\n",
        "    def fly(self): print('Penguins cannot fly')\n",
        "\n",
        "for b in [Sparrow(), Penguin()]: b.fly()"
      ]
    },
    {
      "cell_type": "markdown",
      "id": "752721da",
      "metadata": {
        "id": "752721da"
      },
      "source": [
        "### 5. Encapsulation with BankAccount"
      ]
    },
    {
      "cell_type": "code",
      "execution_count": 5,
      "id": "4399af28",
      "metadata": {
        "colab": {
          "base_uri": "https://localhost:8080/"
        },
        "id": "4399af28",
        "outputId": "f6555e2f-ca6e-4a2e-ae67-052701d28619"
      },
      "outputs": [
        {
          "output_type": "stream",
          "name": "stdout",
          "text": [
            "120\n"
          ]
        }
      ],
      "source": [
        "class BankAccount:\n",
        "    def __init__(self,balance=0): self.__balance=balance\n",
        "    def deposit(self,amt): self.__balance+=amt\n",
        "    def withdraw(self,amt):\n",
        "        if amt<=self.__balance: self.__balance-=amt\n",
        "    def get_balance(self): return self.__balance\n",
        "\n",
        "acct=BankAccount(100); acct.deposit(50); acct.withdraw(30); print(acct.get_balance())"
      ]
    },
    {
      "cell_type": "markdown",
      "id": "d6ef0894",
      "metadata": {
        "id": "d6ef0894"
      },
      "source": [
        "### 6. Runtime polymorphism with Instrument"
      ]
    },
    {
      "cell_type": "code",
      "execution_count": 6,
      "id": "808b67ef",
      "metadata": {
        "colab": {
          "base_uri": "https://localhost:8080/"
        },
        "id": "808b67ef",
        "outputId": "43c03948-9f81-4ea2-e4d4-b22aec5c2c23"
      },
      "outputs": [
        {
          "output_type": "stream",
          "name": "stdout",
          "text": [
            "Strum\n",
            "Plink\n"
          ]
        }
      ],
      "source": [
        "class Instrument:\n",
        "    def play(self): print('Instrument playing')\n",
        "class Guitar(Instrument):\n",
        "    def play(self): print('Strum')\n",
        "class Piano(Instrument):\n",
        "    def play(self): print('Plink')\n",
        "\n",
        "for i in [Guitar(), Piano()]: i.play()"
      ]
    },
    {
      "cell_type": "markdown",
      "id": "d26b257c",
      "metadata": {
        "id": "d26b257c"
      },
      "source": [
        "### 7. MathOperations class methods"
      ]
    },
    {
      "cell_type": "code",
      "execution_count": 7,
      "id": "a1a2e38e",
      "metadata": {
        "colab": {
          "base_uri": "https://localhost:8080/"
        },
        "id": "a1a2e38e",
        "outputId": "da9bb054-c25f-4c0e-9e40-13cba33350ee"
      },
      "outputs": [
        {
          "output_type": "stream",
          "name": "stdout",
          "text": [
            "7\n",
            "3\n"
          ]
        }
      ],
      "source": [
        "class MathOperations:\n",
        "    @classmethod\n",
        "    def add_numbers(cls,a,b): return a+b\n",
        "    @staticmethod\n",
        "    def subtract_numbers(a,b): return a-b\n",
        "\n",
        "print(MathOperations.add_numbers(3,4))\n",
        "print(MathOperations.subtract_numbers(5,2))"
      ]
    },
    {
      "cell_type": "markdown",
      "id": "145655a5",
      "metadata": {
        "id": "145655a5"
      },
      "source": [
        "### 8. Person class counting instances"
      ]
    },
    {
      "cell_type": "code",
      "execution_count": 8,
      "id": "ab6d65ad",
      "metadata": {
        "colab": {
          "base_uri": "https://localhost:8080/"
        },
        "id": "ab6d65ad",
        "outputId": "4cd26958-a360-4ca1-e15a-8851d0b79cd6"
      },
      "outputs": [
        {
          "output_type": "stream",
          "name": "stdout",
          "text": [
            "2\n"
          ]
        }
      ],
      "source": [
        "class Person:\n",
        "    count=0\n",
        "    def __init__(self): Person.count+=1\n",
        "    @classmethod\n",
        "    def total(cls): return cls.count\n",
        "\n",
        "p1,p2=Person(),Person()\n",
        "print(Person.total())"
      ]
    },
    {
      "cell_type": "markdown",
      "id": "c6d03e00",
      "metadata": {
        "id": "c6d03e00"
      },
      "source": [
        "### 9. Fraction with __str__"
      ]
    },
    {
      "cell_type": "code",
      "execution_count": 9,
      "id": "1dc139ab",
      "metadata": {
        "colab": {
          "base_uri": "https://localhost:8080/"
        },
        "id": "1dc139ab",
        "outputId": "976f6e3b-9629-4b82-fec9-08e497dca304"
      },
      "outputs": [
        {
          "output_type": "stream",
          "name": "stdout",
          "text": [
            "3/4\n"
          ]
        }
      ],
      "source": [
        "class Fraction:\n",
        "    def __init__(self,n,d): self.n,self.d=n,d\n",
        "    def __str__(self): return f\"{self.n}/{self.d}\"\n",
        "\n",
        "print(Fraction(3,4))"
      ]
    },
    {
      "cell_type": "markdown",
      "id": "f0be8d4a",
      "metadata": {
        "id": "f0be8d4a"
      },
      "source": [
        "### 10. Vector addition overloading"
      ]
    },
    {
      "cell_type": "code",
      "execution_count": 10,
      "id": "192fa243",
      "metadata": {
        "colab": {
          "base_uri": "https://localhost:8080/"
        },
        "id": "192fa243",
        "outputId": "fcdc61b6-bbde-4627-c006-85721a6cd2e1"
      },
      "outputs": [
        {
          "output_type": "stream",
          "name": "stdout",
          "text": [
            "(4,6)\n"
          ]
        }
      ],
      "source": [
        "class Vector:\n",
        "    def __init__(self,x,y): self.x,self.y=x,y\n",
        "    def __add__(self,other): return Vector(self.x+other.x,self.y+other.y)\n",
        "    def __str__(self): return f\"({self.x},{self.y})\"\n",
        "\n",
        "print(Vector(1,2)+Vector(3,4))"
      ]
    },
    {
      "cell_type": "markdown",
      "id": "4489bac9",
      "metadata": {
        "id": "4489bac9"
      },
      "source": [
        "### 11. Person greet method"
      ]
    },
    {
      "cell_type": "code",
      "execution_count": 11,
      "id": "144f7f7d",
      "metadata": {
        "colab": {
          "base_uri": "https://localhost:8080/"
        },
        "id": "144f7f7d",
        "outputId": "6046d78f-3c0d-4fe7-bcef-be8b1ceb5e1a"
      },
      "outputs": [
        {
          "output_type": "stream",
          "name": "stdout",
          "text": [
            "Hello, my name is Alice and I am 30 years old.\n"
          ]
        }
      ],
      "source": [
        "class Person:\n",
        "    def __init__(self,name,age): self.name=name; self.age=age\n",
        "    def greet(self): print(f\"Hello, my name is {self.name} and I am {self.age} years old.\")\n",
        "\n",
        "Person('Alice',30).greet()"
      ]
    },
    {
      "cell_type": "markdown",
      "id": "9429aa87",
      "metadata": {
        "id": "9429aa87"
      },
      "source": [
        "### 12. Student average grade"
      ]
    },
    {
      "cell_type": "code",
      "execution_count": 12,
      "id": "b4993165",
      "metadata": {
        "colab": {
          "base_uri": "https://localhost:8080/"
        },
        "id": "b4993165",
        "outputId": "b9073977-6ac2-41e9-b68a-e62581154ed5"
      },
      "outputs": [
        {
          "output_type": "stream",
          "name": "stdout",
          "text": [
            "80.0\n"
          ]
        }
      ],
      "source": [
        "class Student:\n",
        "    def __init__(self,name,grades): self.name=name; self.grades=grades\n",
        "    def average_grade(self): return sum(self.grades)/len(self.grades)\n",
        "\n",
        "print(Student('Bob',[90,80,70]).average_grade())"
      ]
    },
    {
      "cell_type": "markdown",
      "id": "1509586e",
      "metadata": {
        "id": "1509586e"
      },
      "source": [
        "### 13. Rectangle with dimensions and area"
      ]
    },
    {
      "cell_type": "code",
      "execution_count": 13,
      "id": "bd7a76c5",
      "metadata": {
        "colab": {
          "base_uri": "https://localhost:8080/"
        },
        "id": "bd7a76c5",
        "outputId": "fa20e82c-6fad-4a4f-f7dd-535ea7ccc6f7"
      },
      "outputs": [
        {
          "output_type": "stream",
          "name": "stdout",
          "text": [
            "30\n"
          ]
        }
      ],
      "source": [
        "class Rectangle:\n",
        "    def set_dimensions(self,w,h): self.w,self.h=w,h\n",
        "    def area(self): return self.w*self.h\n",
        "\n",
        "r=Rectangle(); r.set_dimensions(5,6); print(r.area())"
      ]
    },
    {
      "cell_type": "markdown",
      "id": "72e1419d",
      "metadata": {
        "id": "72e1419d"
      },
      "source": [
        "### 14. Employee and Manager salary"
      ]
    },
    {
      "cell_type": "code",
      "execution_count": 14,
      "id": "8d540c5a",
      "metadata": {
        "colab": {
          "base_uri": "https://localhost:8080/"
        },
        "id": "8d540c5a",
        "outputId": "e3c726b1-ce37-4543-9802-4b12687465cb"
      },
      "outputs": [
        {
          "output_type": "stream",
          "name": "stdout",
          "text": [
            "1000\n"
          ]
        }
      ],
      "source": [
        "class Employee:\n",
        "    def calculate_salary(self,hours,rate): return hours*rate\n",
        "class Manager(Employee):\n",
        "    def calculate_salary(self,hours,rate,bonus): return super().calculate_salary(hours,rate)+bonus\n",
        "\n",
        "print(Manager().calculate_salary(40,20,200))"
      ]
    },
    {
      "cell_type": "markdown",
      "id": "d90068eb",
      "metadata": {
        "id": "d90068eb"
      },
      "source": [
        "### 15. Product with total price"
      ]
    },
    {
      "cell_type": "code",
      "execution_count": 15,
      "id": "0b3a5023",
      "metadata": {
        "colab": {
          "base_uri": "https://localhost:8080/"
        },
        "id": "0b3a5023",
        "outputId": "8cf806d4-1784-4b82-e740-c4f36220cfa9"
      },
      "outputs": [
        {
          "output_type": "stream",
          "name": "stdout",
          "text": [
            "50\n"
          ]
        }
      ],
      "source": [
        "class Product:\n",
        "    def __init__(self,n,p,q): self.name=n; self.price=p; self.quantity=q\n",
        "    def total_price(self): return self.price*self.quantity\n",
        "\n",
        "print(Product('Pen',10,5).total_price())"
      ]
    },
    {
      "cell_type": "markdown",
      "id": "ba10346e",
      "metadata": {
        "id": "ba10346e"
      },
      "source": [
        "### 16. Animal abstract class with Cow, Sheep"
      ]
    },
    {
      "cell_type": "code",
      "execution_count": 16,
      "id": "195b1584",
      "metadata": {
        "colab": {
          "base_uri": "https://localhost:8080/"
        },
        "id": "195b1584",
        "outputId": "7c9374ed-43f9-4919-ad49-dac4ca951b67"
      },
      "outputs": [
        {
          "output_type": "stream",
          "name": "stdout",
          "text": [
            "Moo\n",
            "Baa\n"
          ]
        }
      ],
      "source": [
        "from abc import ABC, abstractmethod\n",
        "\n",
        "class Animal(ABC):\n",
        "    @abstractmethod\n",
        "    def sound(self): pass\n",
        "\n",
        "class Cow(Animal):\n",
        "    def sound(self): print('Moo')\n",
        "class Sheep(Animal):\n",
        "    def sound(self): print('Baa')\n",
        "\n",
        "for a in [Cow(),Sheep()]: a.sound()"
      ]
    },
    {
      "cell_type": "markdown",
      "id": "94f122a7",
      "metadata": {
        "id": "94f122a7"
      },
      "source": [
        "### 17. Book with get_book_info"
      ]
    },
    {
      "cell_type": "code",
      "execution_count": 17,
      "id": "e387793d",
      "metadata": {
        "colab": {
          "base_uri": "https://localhost:8080/"
        },
        "id": "e387793d",
        "outputId": "faf8e8be-fbcd-4617-e2d2-748d446bbcae"
      },
      "outputs": [
        {
          "output_type": "stream",
          "name": "stdout",
          "text": [
            "1984 by Orwell, 1949\n"
          ]
        }
      ],
      "source": [
        "class Book:\n",
        "    def __init__(self,t,a,y): self.title=t; self.author=a; self.year=y\n",
        "    def get_book_info(self): return f\"{self.title} by {self.author}, {self.year}\"\n",
        "\n",
        "print(Book('1984','Orwell',1949).get_book_info())"
      ]
    },
    {
      "cell_type": "markdown",
      "id": "344974de",
      "metadata": {
        "id": "344974de"
      },
      "source": [
        "### 18. House and Mansion inheritance"
      ]
    },
    {
      "cell_type": "code",
      "execution_count": 18,
      "id": "3a8e755a",
      "metadata": {
        "colab": {
          "base_uri": "https://localhost:8080/"
        },
        "id": "3a8e755a",
        "outputId": "db72f16d-127a-4a92-8ce3-5950b3f7150c"
      },
      "outputs": [
        {
          "output_type": "stream",
          "name": "stdout",
          "text": [
            "10\n"
          ]
        }
      ],
      "source": [
        "class House:\n",
        "    def __init__(self,addr,price): self.address=addr; self.price=price\n",
        "class Mansion(House):\n",
        "    def __init__(self,addr,price,rooms): super().__init__(addr,price); self.rooms=rooms\n",
        "\n",
        "print(Mansion('123 St',500000,10).rooms)"
      ]
    }
  ],
  "metadata": {
    "colab": {
      "provenance": [],
      "include_colab_link": true
    },
    "language_info": {
      "name": "python"
    },
    "kernelspec": {
      "name": "python3",
      "display_name": "Python 3"
    }
  },
  "nbformat": 4,
  "nbformat_minor": 5
}