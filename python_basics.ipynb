{
  "cells": [
    {
      "cell_type": "markdown",
      "id": "dfe2ce56",
      "metadata": {
        "id": "dfe2ce56"
      },
      "source": [
        "# Python Basics — Assignment Solutions\n",
        "\n",
        "\n",
        "**Date:** 2025-09-3\n"
      ]
    },
    {
      "cell_type": "markdown",
      "id": "b7ac645f",
      "metadata": {
        "id": "b7ac645f"
      },
      "source": [
        "## Theory / Short Answers\n",
        "\n",
        "**1. What is Python, and why is it popular?**  \n",
        "Python is a high-level, interpreted, general-purpose programming language known for clear syntax, extensive standard library, and a strong ecosystem. It's popular because it's easy to learn, versatile (web, data science, automation), has many third-party libraries, and strong community support.\n",
        "\n",
        "**2. What is an interpreter in Python?**  \n",
        "An interpreter runs Python code line-by-line (or compiles to bytecode and executes on a virtual machine). It reads source code, parses it, and executes instructions without producing a standalone compiled binary.\n",
        "\n",
        "**3. What are pre-defined keywords in Python?**  \n",
        "Keywords are reserved words that have special meaning in Python (e.g., `if`, `else`, `for`, `while`, `def`, `return`, `import`, `class`). They cannot be used as variable names.\n",
        "\n",
        "**4. Can keywords be used as variable names?**  \n",
        "No. Keywords are reserved; using them as variable names leads to a syntax error.\n",
        "\n",
        "**5. What is mutability in Python?**  \n",
        "Mutability refers to whether an object's value can be changed after it is created. Mutable objects can be changed in-place (e.g., lists, dictionaries); immutable objects cannot (e.g., tuples, strings, numbers).\n",
        "\n",
        "**6. Why are lists mutable, but tuples are immutable?**  \n",
        "Lists are designed to be changeable sequences (append/pop/assignment allowed) for flexibility. Tuples are fixed-size sequences intended for fixed collections and can be used as hashable keys when they contain only hashable elements — making them immutable by design.\n",
        "\n",
        "**7. What is the difference between `==` and `is` operators in Python?**  \n",
        "`==` checks for *value equality* (do objects have the same value?). `is` checks for *object identity* (are both references pointing to the exact same object in memory?).\n",
        "\n",
        "**8. What are logical operators in Python?**  \n",
        "Logical operators: `and`, `or`, `not`. They combine or invert boolean expressions.\n",
        "\n",
        "**9. What is type casting in Python?**  \n",
        "Type casting (conversion) is converting a value from one data type to another using functions like `int()`, `float()`, `str()`, `bool()`, `list()` etc.\n",
        "\n",
        "**10. What is the difference between implicit and explicit type casting?**  \n",
        "- Implicit casting: Python automatically converts types when safe (e.g., int to float during arithmetic).\n",
        "- Explicit casting: The programmer manually converts types using functions (e.g., `int(\"5\")`).\n",
        "\n",
        "**11. What is the purpose of conditional statements in Python?**  \n",
        "Conditionals (`if`, `elif`, `else`) control program flow by executing code blocks only when conditions evaluate to `True`.\n",
        "\n",
        "**12. How does the `elif` statement work?**  \n",
        "`elif` (else-if) provides an additional condition if the previous `if` (and any previous `elif`) was `False`. Only the first `True` branch runs.\n",
        "\n",
        "**13. What is the difference between `for` and `while` loops?**  \n",
        "- `for` loops iterate over a sequence or an iterator for a known or finite set of items.  \n",
        "- `while` loops repeat as long as a condition remains `True` (useful when iterations depend on a condition that may change).\n",
        "\n",
        "**14. Describe a scenario where a `while` loop is more suitable than a `for` loop.**  \n",
        "When reading input until the user types \"quit\" or when you poll a resource until a condition becomes true, and you don't know the number of iterations in advance."
      ]
    },
    {
      "cell_type": "markdown",
      "id": "e839a3f0",
      "metadata": {
        "id": "e839a3f0"
      },
      "source": [
        "## Practical Questions — Runnable solutions\n",
        "\n",
        "Each code block solves the corresponding practical task. Where user input is expected, a default example is provided and the input() line is commented so you can enable it if you prefer interactive input."
      ]
    },
    {
      "cell_type": "code",
      "execution_count": 1,
      "id": "f3a1d7ae",
      "metadata": {
        "id": "f3a1d7ae"
      },
      "outputs": [],
      "source": [
        "def print_sep(title):\n",
        "    print('\\n' + '='*40)\n",
        "    print(title)\n",
        "    print('='*40 + '\\n')\n"
      ]
    },
    {
      "cell_type": "markdown",
      "id": "a7a4a9ab",
      "metadata": {
        "id": "a7a4a9ab"
      },
      "source": [
        "### 1. Print `Hello, World!`"
      ]
    },
    {
      "cell_type": "code",
      "execution_count": 2,
      "id": "b089978d",
      "metadata": {
        "colab": {
          "base_uri": "https://localhost:8080/"
        },
        "id": "b089978d",
        "outputId": "7e9acbcc-654d-4bc4-9a0b-a8682b55c20d"
      },
      "outputs": [
        {
          "output_type": "stream",
          "name": "stdout",
          "text": [
            "\n",
            "========================================\n",
            "1. Hello, World!\n",
            "========================================\n",
            "\n",
            "Hello, World!\n"
          ]
        }
      ],
      "source": [
        "print_sep('1. Hello, World!')\n",
        "print('Hello, World!')"
      ]
    },
    {
      "cell_type": "markdown",
      "id": "6292bcae",
      "metadata": {
        "id": "6292bcae"
      },
      "source": [
        "### 2. Display your name and age"
      ]
    },
    {
      "cell_type": "code",
      "execution_count": 3,
      "id": "832b14b1",
      "metadata": {
        "colab": {
          "base_uri": "https://localhost:8080/"
        },
        "id": "832b14b1",
        "outputId": "1496b1b4-1466-460a-d588-3b4a9ce10ae9"
      },
      "outputs": [
        {
          "output_type": "stream",
          "name": "stdout",
          "text": [
            "\n",
            "========================================\n",
            "2. Name and age\n",
            "========================================\n",
            "\n",
            "My name is Alice and I am 23 years old.\n"
          ]
        }
      ],
      "source": [
        "print_sep('2. Name and age')\n",
        "name = 'Alice'\n",
        "age = 23\n",
        "# To use interactive input, uncomment next two lines:\n",
        "# name = input('Enter your name: ')\n",
        "# age = int(input('Enter your age: '))\n",
        "print(f'My name is {name} and I am {age} years old.')"
      ]
    },
    {
      "cell_type": "markdown",
      "id": "280d7f2a",
      "metadata": {
        "id": "280d7f2a"
      },
      "source": [
        "### 3. Print all predefined keywords in Python using the `keyword` library"
      ]
    },
    {
      "cell_type": "code",
      "execution_count": 4,
      "id": "692d14c3",
      "metadata": {
        "colab": {
          "base_uri": "https://localhost:8080/"
        },
        "id": "692d14c3",
        "outputId": "5dd89901-54c1-4686-9a0b-7be4709cd2e3"
      },
      "outputs": [
        {
          "output_type": "stream",
          "name": "stdout",
          "text": [
            "\n",
            "========================================\n",
            "3. Python keywords\n",
            "========================================\n",
            "\n",
            "Keywords in this Python version (count: 35 )\n",
            "['False', 'None', 'True', 'and', 'as', 'assert', 'async', 'await', 'break', 'class', 'continue', 'def', 'del', 'elif', 'else', 'except', 'finally', 'for', 'from', 'global', 'if', 'import', 'in', 'is', 'lambda', 'nonlocal', 'not', 'or', 'pass', 'raise', 'return', 'try', 'while', 'with', 'yield']\n"
          ]
        }
      ],
      "source": [
        "print_sep('3. Python keywords')\n",
        "import keyword\n",
        "print('Keywords in this Python version (count:', len(keyword.kwlist), ')')\n",
        "print(keyword.kwlist)"
      ]
    },
    {
      "cell_type": "markdown",
      "id": "377cc081",
      "metadata": {
        "id": "377cc081"
      },
      "source": [
        "### 4. Check if a given word is a Python keyword"
      ]
    },
    {
      "cell_type": "code",
      "execution_count": 5,
      "id": "67351032",
      "metadata": {
        "colab": {
          "base_uri": "https://localhost:8080/"
        },
        "id": "67351032",
        "outputId": "a3b65e36-ceda-4d81-fbb1-3f0249a43893"
      },
      "outputs": [
        {
          "output_type": "stream",
          "name": "stdout",
          "text": [
            "\n",
            "========================================\n",
            "4. Is keyword?\n",
            "========================================\n",
            "\n",
            "for -> True\n",
            "hello -> False\n",
            "class -> True\n",
            "lambda -> True\n",
            "my_var -> False\n"
          ]
        }
      ],
      "source": [
        "print_sep('4. Is keyword?')\n",
        "import keyword\n",
        "\n",
        "def is_keyword(w):\n",
        "    return keyword.iskeyword(w)\n",
        "\n",
        "for w in ['for', 'hello', 'class', 'lambda', 'my_var']:\n",
        "    print(w, '->', is_keyword(w))\n",
        "\n",
        "# Interactive example (commented):\n",
        "# word = input('Enter word to check: ')\n",
        "# print(word, 'is keyword?', is_keyword(word))"
      ]
    },
    {
      "cell_type": "markdown",
      "id": "562f3222",
      "metadata": {
        "id": "562f3222"
      },
      "source": [
        "### 6. Function demonstrating mutable vs immutable arguments\n",
        "We'll show how changing a mutable argument (list) inside a function affects the caller's object, while changing an immutable argument (int/tuple/str) doesn't change the original binding."
      ]
    },
    {
      "cell_type": "code",
      "execution_count": 6,
      "id": "ce4c427d",
      "metadata": {
        "colab": {
          "base_uri": "https://localhost:8080/"
        },
        "id": "ce4c427d",
        "outputId": "e84e5f8f-6ffe-4037-fdf0-d442b2285d91"
      },
      "outputs": [
        {
          "output_type": "stream",
          "name": "stdout",
          "text": [
            "\n",
            "========================================\n",
            "6. Mutable vs Immutable\n",
            "========================================\n",
            "\n",
            "Before function call: [1, 2, 3] 5 (10, 20)\n",
            "Inside before changes: [1, 2, 3] 5 (10, 20)\n",
            "Inside after changes: [1, 2, 3, 'added'] 15 (10, 20, 'new')\n",
            "After function call: [1, 2, 3, 'added'] 5 (10, 20)\n"
          ]
        }
      ],
      "source": [
        "print_sep('6. Mutable vs Immutable')\n",
        "\n",
        "def mutate_demo(x_list, x_num, x_tuple):\n",
        "    print('Inside before changes:', x_list, x_num, x_tuple)\n",
        "    x_list.append('added')      # mutates the list in-place\n",
        "    x_num += 10                # rebinding inside function; does not change caller's int\n",
        "    x_tuple += ('new',)    # tuples are immutable; this rebinds inside function\n",
        "    print('Inside after changes:', x_list, x_num, x_tuple)\n",
        "\n",
        "l = [1,2,3]\n",
        "n = 5\n",
        "t = (10, 20)\n",
        "print('Before function call:', l, n, t)\n",
        "mutate_demo(l, n, t)\n",
        "print('After function call:', l, n, t)\n",
        "# Notice: l changed, n and t in caller stayed the same.\n"
      ]
    },
    {
      "cell_type": "markdown",
      "id": "72cee1b9",
      "metadata": {
        "id": "72cee1b9"
      },
      "source": [
        "### 7. Basic arithmetic operations on two numbers\n",
        "This cell demonstrates add, subtract, multiply, divide, integer division, modulus, and power."
      ]
    },
    {
      "cell_type": "code",
      "execution_count": 7,
      "id": "3f3abc19",
      "metadata": {
        "colab": {
          "base_uri": "https://localhost:8080/"
        },
        "id": "3f3abc19",
        "outputId": "b19fb0a9-858f-4ac0-92bd-ebd5af594305"
      },
      "outputs": [
        {
          "output_type": "stream",
          "name": "stdout",
          "text": [
            "\n",
            "========================================\n",
            "7. Basic arithmetic\n",
            "========================================\n",
            "\n",
            "12 + 5 = 17\n",
            "12 - 5 = 7\n",
            "12 * 5 = 60\n",
            "12 / 5 = 2.4\n",
            "12 // 5 = 2\n",
            "12 % 5 = 2\n",
            "12 ** 5 = 248832\n"
          ]
        }
      ],
      "source": [
        "print_sep('7. Basic arithmetic')\n",
        "# Example values (change or uncomment input lines for interactivity)\n",
        "a = 12\n",
        "b = 5\n",
        "# a = float(input('Enter number a: '))\n",
        "# b = float(input('Enter number b: '))\n",
        "print(a, '+', b, '=', a + b)\n",
        "print(a, '-', b, '=', a - b)\n",
        "print(a, '*', b, '=', a * b)\n",
        "print(a, '/', b, '=', a / b)\n",
        "print(a, '//', b, '=', a // b)\n",
        "print(a, '%', b, '=', a % b)\n",
        "print(a, '**', b, '=', a ** b)\n"
      ]
    },
    {
      "cell_type": "markdown",
      "id": "4225413f",
      "metadata": {
        "id": "4225413f"
      },
      "source": [
        "### 8. Demonstrate logical operators (`and`, `or`, `not`)"
      ]
    },
    {
      "cell_type": "code",
      "execution_count": 8,
      "id": "12f31ae6",
      "metadata": {
        "colab": {
          "base_uri": "https://localhost:8080/"
        },
        "id": "12f31ae6",
        "outputId": "6c859bc7-5da6-419a-c6a2-6ed9d574639e"
      },
      "outputs": [
        {
          "output_type": "stream",
          "name": "stdout",
          "text": [
            "\n",
            "========================================\n",
            "8. Logical operators\n",
            "========================================\n",
            "\n",
            "a and b => False\n",
            "a or b  => True\n",
            "not a   => False\n",
            "x > 5 and x < 20 => True\n",
            "x < 5 or x == 10  => True\n"
          ]
        }
      ],
      "source": [
        "print_sep('8. Logical operators')\n",
        "a = True\n",
        "b = False\n",
        "print('a and b =>', a and b)\n",
        "print('a or b  =>', a or b)\n",
        "print('not a   =>', not a)\n",
        "\n",
        "# Example with comparisons\n",
        "x = 10\n",
        "print('x > 5 and x < 20 =>', x > 5 and x < 20)\n",
        "print('x < 5 or x == 10  =>', x < 5 or x == 10)\n"
      ]
    },
    {
      "cell_type": "markdown",
      "id": "739d0e98",
      "metadata": {
        "id": "739d0e98"
      },
      "source": [
        "### 5. Create a list and tuple and demonstrate how changing an element works differently"
      ]
    },
    {
      "cell_type": "code",
      "execution_count": 9,
      "id": "bd3c6abb",
      "metadata": {
        "colab": {
          "base_uri": "https://localhost:8080/"
        },
        "id": "bd3c6abb",
        "outputId": "e1993028-156f-4fb1-e64b-87854c138c82"
      },
      "outputs": [
        {
          "output_type": "stream",
          "name": "stdout",
          "text": [
            "\n",
            "========================================\n",
            "5. List vs Tuple element change\n",
            "========================================\n",
            "\n",
            "Original list: [10, 20, 30]\n",
            "Original tuple: (10, 20, 30)\n",
            "List after my_list[1] = 99 -> [10, 99, 30]\n",
            "Tuple mutation attempt error: 'tuple' object does not support item assignment\n",
            "New tuple built from pieces: (10, 99, 30)\n"
          ]
        }
      ],
      "source": [
        "print_sep('5. List vs Tuple element change')\n",
        "my_list = [10, 20, 30]\n",
        "my_tuple = (10, 20, 30)\n",
        "print('Original list:', my_list)\n",
        "print('Original tuple:', my_tuple)\n",
        "\n",
        "# Mutating list\n",
        "my_list[1] = 99\n",
        "print('List after my_list[1] = 99 ->', my_list)\n",
        "\n",
        "# Attempt to mutate tuple\n",
        "try:\n",
        "    my_tuple[1] = 99\n",
        "except TypeError as e:\n",
        "    print('Tuple mutation attempt error:', e)\n",
        "\n",
        "# You can create a new tuple from parts if needed\n",
        "new_tuple = my_tuple[:1] + (99,) + my_tuple[2:]\n",
        "print('New tuple built from pieces:', new_tuple)\n"
      ]
    },
    {
      "cell_type": "markdown",
      "id": "591b2eb8",
      "metadata": {
        "id": "591b2eb8"
      },
      "source": [
        "### 9. Convert user input from string to integer, float, and boolean types"
      ]
    },
    {
      "cell_type": "code",
      "execution_count": 10,
      "id": "a44a20ec",
      "metadata": {
        "colab": {
          "base_uri": "https://localhost:8080/"
        },
        "id": "a44a20ec",
        "outputId": "da8f4b86-0782-4f0e-bac4-6aeae6b81184"
      },
      "outputs": [
        {
          "output_type": "stream",
          "name": "stdout",
          "text": [
            "\n",
            "========================================\n",
            "9. Type conversions from string\n",
            "========================================\n",
            "\n",
            "Original string s = 123\n",
            "int(s) -> 123\n",
            "float(s) -> 123.0\n",
            "bool('') -> False\n",
            "To map 'True'/'False' strings -> use s.lower() in ('true','1','yes') etc.\n",
            "str_to_bool('True') -> True\n",
            "str_to_bool('no') -> False\n"
          ]
        }
      ],
      "source": [
        "print_sep('9. Type conversions from string')\n",
        "s = '123'\n",
        "print('Original string s =', s)\n",
        "print('int(s) ->', int(s))\n",
        "print('float(s) ->', float(s))\n",
        "# For boolean, non-empty strings are True; 'False' as string still True, so convert carefully\n",
        "s2 = ''\n",
        "print(\"bool('') ->\", bool(s2))\n",
        "print(\"To map 'True'/'False' strings -> use s.lower() in ('true','1','yes') etc.\")\n",
        "\n",
        "def str_to_bool(st):\n",
        "    return str(st).strip().lower() in ('true', '1', 't', 'yes', 'y')\n",
        "\n",
        "print(\"str_to_bool('True') ->\", str_to_bool('True'))\n",
        "print(\"str_to_bool('no') ->\", str_to_bool('no'))\n"
      ]
    },
    {
      "cell_type": "markdown",
      "id": "45e9cca4",
      "metadata": {
        "id": "45e9cca4"
      },
      "source": [
        "### 10. Demonstrate type casting with list elements\n",
        "Convert a list of strings to integers and floats."
      ]
    },
    {
      "cell_type": "code",
      "execution_count": 11,
      "id": "a2c54a98",
      "metadata": {
        "colab": {
          "base_uri": "https://localhost:8080/"
        },
        "id": "a2c54a98",
        "outputId": "b00e0347-f1b1-4734-e333-666dffc8647e"
      },
      "outputs": [
        {
          "output_type": "stream",
          "name": "stdout",
          "text": [
            "\n",
            "========================================\n",
            "10. Type casting list elements\n",
            "========================================\n",
            "\n",
            "Original: ['1', '2', '3', '4.5']\n",
            "Integers: [1, 2, 3]\n",
            "Floats: [1.0, 2.0, 3.0, 4.5]\n"
          ]
        }
      ],
      "source": [
        "print_sep('10. Type casting list elements')\n",
        "str_list = ['1', '2', '3', '4.5']\n",
        "int_list = [int(x) for x in str_list[:-1]]\n",
        "float_list = [float(x) for x in str_list]\n",
        "print('Original:', str_list)\n",
        "print('Integers:', int_list)\n",
        "print('Floats:', float_list)\n"
      ]
    },
    {
      "cell_type": "markdown",
      "id": "4a9943df",
      "metadata": {
        "id": "4a9943df"
      },
      "source": [
        "### 11. Check if a number is positive, negative, or zero"
      ]
    },
    {
      "cell_type": "code",
      "execution_count": 12,
      "id": "49f8e552",
      "metadata": {
        "colab": {
          "base_uri": "https://localhost:8080/"
        },
        "id": "49f8e552",
        "outputId": "e3be8352-6a13-423d-874d-0d62d06daef3"
      },
      "outputs": [
        {
          "output_type": "stream",
          "name": "stdout",
          "text": [
            "\n",
            "========================================\n",
            "11. Positive/Negative/Zero\n",
            "========================================\n",
            "\n",
            "10 is positive\n",
            "-5 is negative\n",
            "0 is zero\n"
          ]
        }
      ],
      "source": [
        "print_sep('11. Positive/Negative/Zero')\n",
        "nums = [10, -5, 0]\n",
        "for num in nums:\n",
        "    if num > 0:\n",
        "        print(num, 'is positive')\n",
        "    elif num < 0:\n",
        "        print(num, 'is negative')\n",
        "    else:\n",
        "        print(num, 'is zero')\n"
      ]
    },
    {
      "cell_type": "markdown",
      "id": "9ccf3d08",
      "metadata": {
        "id": "9ccf3d08"
      },
      "source": [
        "### 12. For loop to print numbers from 1 to 10"
      ]
    },
    {
      "cell_type": "code",
      "execution_count": 13,
      "id": "ce1586aa",
      "metadata": {
        "colab": {
          "base_uri": "https://localhost:8080/"
        },
        "id": "ce1586aa",
        "outputId": "b83a799e-6137-43d0-9fee-dd2ca80b2e9f"
      },
      "outputs": [
        {
          "output_type": "stream",
          "name": "stdout",
          "text": [
            "\n",
            "========================================\n",
            "12. Numbers 1 to 10\n",
            "========================================\n",
            "\n",
            "1 2 3 4 5 6 7 8 9 10 \n"
          ]
        }
      ],
      "source": [
        "print_sep('12. Numbers 1 to 10')\n",
        "for i in range(1, 11):\n",
        "    print(i, end=' ')\n",
        "print()"
      ]
    },
    {
      "cell_type": "markdown",
      "id": "cd3af8ec",
      "metadata": {
        "id": "cd3af8ec"
      },
      "source": [
        "### 13. Sum of all even numbers between 1 and 50"
      ]
    },
    {
      "cell_type": "code",
      "execution_count": 14,
      "id": "9849a84d",
      "metadata": {
        "colab": {
          "base_uri": "https://localhost:8080/"
        },
        "id": "9849a84d",
        "outputId": "3d41ce82-7a5a-4682-e614-f60851fde347"
      },
      "outputs": [
        {
          "output_type": "stream",
          "name": "stdout",
          "text": [
            "\n",
            "========================================\n",
            "13. Sum of evens 1..50\n",
            "========================================\n",
            "\n",
            "Sum of even numbers from 1 to 50 is 650\n"
          ]
        }
      ],
      "source": [
        "print_sep('13. Sum of evens 1..50')\n",
        "even_sum = sum(i for i in range(1,51) if i % 2 == 0)\n",
        "print('Sum of even numbers from 1 to 50 is', even_sum)"
      ]
    },
    {
      "cell_type": "markdown",
      "id": "97f44650",
      "metadata": {
        "id": "97f44650"
      },
      "source": [
        "### 14. Reverse a string using a while loop"
      ]
    },
    {
      "cell_type": "code",
      "execution_count": 15,
      "id": "56205328",
      "metadata": {
        "colab": {
          "base_uri": "https://localhost:8080/"
        },
        "id": "56205328",
        "outputId": "c673d0d3-43ea-4f65-de39-623699ea1e7d"
      },
      "outputs": [
        {
          "output_type": "stream",
          "name": "stdout",
          "text": [
            "\n",
            "========================================\n",
            "14. Reverse string using while\n",
            "========================================\n",
            "\n",
            "Original: Hello, World!\n",
            "Reversed: !dlroW ,olleH\n"
          ]
        }
      ],
      "source": [
        "print_sep('14. Reverse string using while')\n",
        "s = 'Hello, World!'\n",
        "# Uncomment to take input\n",
        "# s = input('Enter a string to reverse: ')\n",
        "rev = ''\n",
        "i = len(s) - 1\n",
        "while i >= 0:\n",
        "    rev += s[i]\n",
        "    i -= 1\n",
        "print('Original:', s)\n",
        "print('Reversed:', rev)\n"
      ]
    },
    {
      "cell_type": "markdown",
      "id": "2fd009b7",
      "metadata": {
        "id": "2fd009b7"
      },
      "source": [
        "### 15. Calculate factorial of a number using a while loop"
      ]
    },
    {
      "cell_type": "code",
      "execution_count": 16,
      "id": "a3cbc6ab",
      "metadata": {
        "colab": {
          "base_uri": "https://localhost:8080/"
        },
        "id": "a3cbc6ab",
        "outputId": "9437cc7e-162a-4695-9237-636020067b52"
      },
      "outputs": [
        {
          "output_type": "stream",
          "name": "stdout",
          "text": [
            "\n",
            "========================================\n",
            "15. Factorial with while\n",
            "========================================\n",
            "\n",
            "6! = 720\n"
          ]
        }
      ],
      "source": [
        "print_sep('15. Factorial with while')\n",
        "\n",
        "n = 6\n",
        "# To use interactive input, uncomment next line:\n",
        "# n = int(input('Enter a non-negative integer: '))\n",
        "if n < 0:\n",
        "    print('Factorial not defined for negative numbers')\n",
        "else:\n",
        "    fact = 1\n",
        "    i = n\n",
        "    while i > 1:\n",
        "        fact *= i\n",
        "        i -= 1\n",
        "    print(f'{n}! =', fact)\n"
      ]
    }
  ],
  "metadata": {
    "colab": {
      "provenance": []
    },
    "language_info": {
      "name": "python"
    },
    "kernelspec": {
      "name": "python3",
      "display_name": "Python 3"
    }
  },
  "nbformat": 4,
  "nbformat_minor": 5
}