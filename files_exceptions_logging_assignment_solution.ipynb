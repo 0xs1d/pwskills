{
  "cells": [
    {
      "cell_type": "markdown",
      "metadata": {
        "id": "view-in-github",
        "colab_type": "text"
      },
      "source": [
        "<a href=\"https://colab.research.google.com/github/0xs1d/pwskills/blob/main/files_exceptions_logging_assignment_solution.ipynb\" target=\"_parent\"><img src=\"https://colab.research.google.com/assets/colab-badge.svg\" alt=\"Open In Colab\"/></a>"
      ]
    },
    {
      "cell_type": "markdown",
      "id": "0b70709e",
      "metadata": {
        "id": "0b70709e"
      },
      "source": [
        "# Files, Exception Handling, Logging, and Memory Management — Assignment Solutions\n",
        "\n",
        "This notebook contains theory answers and runnable Python code for the assignment.\n",
        "\n",
        "**Date:** 2025-09-13\n"
      ]
    },
    {
      "cell_type": "markdown",
      "id": "9879b10e",
      "metadata": {
        "id": "9879b10e"
      },
      "source": [
        "## Theory Questions\n",
        "\n",
        "**1. Difference between interpreted and compiled languages.**  \n",
        "- Interpreted: executed line by line (Python).  \n",
        "- Compiled: translated fully into machine code before execution (C, C++).\n",
        "\n",
        "**2. Exception handling in Python.**  \n",
        "Uses `try`, `except`, `else`, and `finally` to catch and manage runtime errors.\n",
        "\n",
        "**3. Purpose of `finally`.**  \n",
        "Always runs, used for cleanup like closing files.\n",
        "\n",
        "**4. Logging in Python.**  \n",
        "Built-in framework to record messages with severity levels.\n",
        "\n",
        "**5. `__del__` method.**  \n",
        "Destructor, called when object is garbage collected.\n",
        "\n",
        "**6. `import` vs `from ... import`.**  \n",
        "- `import module`: need `module.func`.  \n",
        "- `from module import func`: can call `func` directly.\n",
        "\n",
        "**7. Handling multiple exceptions.**  \n",
        "Multiple `except` clauses or a tuple.\n",
        "\n",
        "**8. Purpose of `with` for files.**  \n",
        "Ensures automatic closing of files.\n",
        "\n",
        "**9. Multithreading vs multiprocessing.**  \n",
        "Threads share memory; processes have separate memory.\n",
        "\n",
        "**10. Advantages of logging.**  \n",
        "Persistent records, configurable, good for debugging.\n",
        "\n",
        "**11. Memory management in Python.**  \n",
        "Handled by reference counting and garbage collection.\n",
        "\n",
        "**12. Steps in exception handling.**  \n",
        "Write risky code in `try`; handle in `except`; optional `else` and `finally`.\n",
        "\n",
        "**13. Why memory management matters.**  \n",
        "Prevents leaks and inefficiency.\n",
        "\n",
        "**14. Role of try/except.**  \n",
        "`try` encloses risky code; `except` handles errors.\n",
        "\n",
        "**15. Garbage collection.**  \n",
        "Automatic cleanup via reference counting and cycle detection.\n",
        "\n",
        "**16. Purpose of else in exceptions.**  \n",
        "Runs only if no exception occurs.\n",
        "\n",
        "**17. Logging levels.**  \n",
        "DEBUG, INFO, WARNING, ERROR, CRITICAL.\n",
        "\n",
        "**18. os.fork vs multiprocessing.**  \n",
        "`os.fork()`: Unix-only, low-level.  \n",
        "`multiprocessing`: portable, high-level API.\n",
        "\n",
        "**19. Importance of closing a file.**  \n",
        "Releases resources, ensures data persistence.\n",
        "\n",
        "**20. file.read vs file.readline.**  \n",
        "- `read()`: whole file.  \n",
        "- `readline()`: single line.\n",
        "\n",
        "**21. Logging module.**  \n",
        "Used for logging messages.\n",
        "\n",
        "**22. os module.**  \n",
        "For file paths, directories, process operations.\n",
        "\n",
        "**23. Memory management challenges.**  \n",
        "Leaks, fragmentation, cyclic references.\n",
        "\n",
        "**24. Raising exceptions.**  \n",
        "Use `raise Exception(\"msg\")`.\n",
        "\n",
        "**25. Why multithreading.**  \n",
        "Better responsiveness, useful for I/O-bound tasks.\n"
      ]
    },
    {
      "cell_type": "markdown",
      "id": "6f6a2ec1",
      "metadata": {
        "id": "6f6a2ec1"
      },
      "source": [
        "## Practical Questions — Solutions"
      ]
    },
    {
      "cell_type": "markdown",
      "id": "23f3a2f0",
      "metadata": {
        "id": "23f3a2f0"
      },
      "source": [
        "### 1. Open a file for writing and write a string"
      ]
    },
    {
      "cell_type": "code",
      "execution_count": 1,
      "id": "6264ba46",
      "metadata": {
        "id": "6264ba46"
      },
      "outputs": [],
      "source": [
        "with open('test.txt','w') as f:\n",
        "    f.write('Hello, file!')"
      ]
    },
    {
      "cell_type": "markdown",
      "id": "17704fd5",
      "metadata": {
        "id": "17704fd5"
      },
      "source": [
        "### 2. Read contents of file and print each line"
      ]
    },
    {
      "cell_type": "code",
      "execution_count": 2,
      "id": "ddd433a5",
      "metadata": {
        "colab": {
          "base_uri": "https://localhost:8080/"
        },
        "id": "ddd433a5",
        "outputId": "5fda4bdd-5cea-42ed-a62b-3361c4948f47"
      },
      "outputs": [
        {
          "output_type": "stream",
          "name": "stdout",
          "text": [
            "Hello, file!\n"
          ]
        }
      ],
      "source": [
        "with open('test.txt') as f:\n",
        "    for line in f:\n",
        "        print(line.strip())"
      ]
    },
    {
      "cell_type": "markdown",
      "id": "e68cfede",
      "metadata": {
        "id": "e68cfede"
      },
      "source": [
        "### 3. Handle non-existent file when opening for reading"
      ]
    },
    {
      "cell_type": "code",
      "execution_count": 3,
      "id": "f3cb2943",
      "metadata": {
        "colab": {
          "base_uri": "https://localhost:8080/"
        },
        "id": "f3cb2943",
        "outputId": "04ae3bd5-966d-4195-f6aa-2821be5fe2c5"
      },
      "outputs": [
        {
          "output_type": "stream",
          "name": "stdout",
          "text": [
            "File not found!\n"
          ]
        }
      ],
      "source": [
        "try:\n",
        "    with open('nofile.txt') as f:\n",
        "        print(f.read())\n",
        "except FileNotFoundError:\n",
        "    print('File not found!')"
      ]
    },
    {
      "cell_type": "markdown",
      "id": "e4c4cb5d",
      "metadata": {
        "id": "e4c4cb5d"
      },
      "source": [
        "### 4. Copy file contents"
      ]
    },
    {
      "cell_type": "code",
      "execution_count": 4,
      "id": "9ceafb2d",
      "metadata": {
        "id": "9ceafb2d"
      },
      "outputs": [],
      "source": [
        "with open('test.txt') as src, open('copy.txt','w') as dst:\n",
        "    dst.write(src.read())"
      ]
    },
    {
      "cell_type": "markdown",
      "id": "f2ecce31",
      "metadata": {
        "id": "f2ecce31"
      },
      "source": [
        "### 5. Handle division by zero"
      ]
    },
    {
      "cell_type": "code",
      "execution_count": 5,
      "id": "ce25ef55",
      "metadata": {
        "colab": {
          "base_uri": "https://localhost:8080/"
        },
        "id": "ce25ef55",
        "outputId": "6472d165-d1a5-4c81-c9df-bf508f6f9c96"
      },
      "outputs": [
        {
          "output_type": "stream",
          "name": "stdout",
          "text": [
            "Cannot divide by zero\n"
          ]
        }
      ],
      "source": [
        "try:\n",
        "    x=5/0\n",
        "except ZeroDivisionError:\n",
        "    print('Cannot divide by zero')"
      ]
    },
    {
      "cell_type": "markdown",
      "id": "6f69ec7b",
      "metadata": {
        "id": "6f69ec7b"
      },
      "source": [
        "### 6. Log division by zero error"
      ]
    },
    {
      "cell_type": "code",
      "execution_count": 6,
      "id": "96f139f3",
      "metadata": {
        "colab": {
          "base_uri": "https://localhost:8080/"
        },
        "id": "96f139f3",
        "outputId": "cb4ea1a0-eb01-4332-c095-5304da73a8fe"
      },
      "outputs": [
        {
          "output_type": "stream",
          "name": "stderr",
          "text": [
            "ERROR:root:Division by zero: division by zero\n"
          ]
        }
      ],
      "source": [
        "import logging\n",
        "logging.basicConfig(filename='errors.log',level=logging.ERROR)\n",
        "try:\n",
        "    5/0\n",
        "except ZeroDivisionError as e:\n",
        "    logging.error('Division by zero: %s', e)"
      ]
    },
    {
      "cell_type": "markdown",
      "id": "e54e697f",
      "metadata": {
        "id": "e54e697f"
      },
      "source": [
        "### 7. Log info, warning, error"
      ]
    },
    {
      "cell_type": "code",
      "execution_count": 7,
      "id": "17ddaad7",
      "metadata": {
        "colab": {
          "base_uri": "https://localhost:8080/"
        },
        "id": "17ddaad7",
        "outputId": "14150ce6-7ec2-4e13-ea2f-c87864de1ebb"
      },
      "outputs": [
        {
          "output_type": "stream",
          "name": "stderr",
          "text": [
            "WARNING:root:Warning message\n",
            "ERROR:root:Error message\n"
          ]
        }
      ],
      "source": [
        "logging.basicConfig(level=logging.INFO)\n",
        "logging.info('Info message')\n",
        "logging.warning('Warning message')\n",
        "logging.error('Error message')"
      ]
    },
    {
      "cell_type": "markdown",
      "id": "add1f1ff",
      "metadata": {
        "id": "add1f1ff"
      },
      "source": [
        "### 8. Handle file opening error"
      ]
    },
    {
      "cell_type": "code",
      "execution_count": 8,
      "id": "020504bd",
      "metadata": {
        "colab": {
          "base_uri": "https://localhost:8080/"
        },
        "id": "020504bd",
        "outputId": "de9aae27-75f0-44c3-893a-c21ca8f75d8f"
      },
      "outputs": [
        {
          "output_type": "stream",
          "name": "stdout",
          "text": [
            "Error: [Errno 2] No such file or directory: 'nofile.txt'\n"
          ]
        }
      ],
      "source": [
        "try:\n",
        "    open('nofile.txt')\n",
        "except Exception as e:\n",
        "    print('Error:', e)"
      ]
    },
    {
      "cell_type": "markdown",
      "id": "59848cc6",
      "metadata": {
        "id": "59848cc6"
      },
      "source": [
        "### 9. Read file into list"
      ]
    },
    {
      "cell_type": "code",
      "execution_count": 9,
      "id": "49d869b3",
      "metadata": {
        "colab": {
          "base_uri": "https://localhost:8080/"
        },
        "id": "49d869b3",
        "outputId": "1ab4f01a-6f47-499b-b6af-cafb87fceefd"
      },
      "outputs": [
        {
          "output_type": "stream",
          "name": "stdout",
          "text": [
            "['Hello, file!']\n"
          ]
        }
      ],
      "source": [
        "with open('test.txt') as f:\n",
        "    lines=f.readlines()\n",
        "print(lines)"
      ]
    },
    {
      "cell_type": "markdown",
      "id": "ac4705f8",
      "metadata": {
        "id": "ac4705f8"
      },
      "source": [
        "### 10. Append to file"
      ]
    },
    {
      "cell_type": "code",
      "execution_count": 10,
      "id": "f30e8ce0",
      "metadata": {
        "id": "f30e8ce0"
      },
      "outputs": [],
      "source": [
        "with open('test.txt','a') as f:\n",
        "    f.write('\\nAppended line')"
      ]
    },
    {
      "cell_type": "markdown",
      "id": "4389e72e",
      "metadata": {
        "id": "4389e72e"
      },
      "source": [
        "### 11. Handle missing dict key"
      ]
    },
    {
      "cell_type": "code",
      "execution_count": 11,
      "id": "74234d72",
      "metadata": {
        "colab": {
          "base_uri": "https://localhost:8080/"
        },
        "id": "74234d72",
        "outputId": "4c6d4875-4e16-4146-9f55-841368641bc8"
      },
      "outputs": [
        {
          "output_type": "stream",
          "name": "stdout",
          "text": [
            "Key not found\n"
          ]
        }
      ],
      "source": [
        "d={'a':1}\n",
        "try:\n",
        "    print(d['b'])\n",
        "except KeyError:\n",
        "    print('Key not found')"
      ]
    },
    {
      "cell_type": "markdown",
      "id": "ff48c84c",
      "metadata": {
        "id": "ff48c84c"
      },
      "source": [
        "### 12. Multiple excepts"
      ]
    },
    {
      "cell_type": "code",
      "execution_count": 12,
      "id": "20e6b19d",
      "metadata": {
        "colab": {
          "base_uri": "https://localhost:8080/"
        },
        "id": "20e6b19d",
        "outputId": "e4d80bfd-02ce-4e59-e461-2102c6933bfc"
      },
      "outputs": [
        {
          "output_type": "stream",
          "name": "stdout",
          "text": [
            "Division by zero\n"
          ]
        }
      ],
      "source": [
        "try:\n",
        "    x=5/0\n",
        "except ZeroDivisionError:\n",
        "    print('Division by zero')\n",
        "except Exception as e:\n",
        "    print('Other error:', e)"
      ]
    },
    {
      "cell_type": "markdown",
      "id": "fc803691",
      "metadata": {
        "id": "fc803691"
      },
      "source": [
        "### 13. Check if file exists"
      ]
    },
    {
      "cell_type": "code",
      "execution_count": 13,
      "id": "046ed0d7",
      "metadata": {
        "colab": {
          "base_uri": "https://localhost:8080/"
        },
        "id": "046ed0d7",
        "outputId": "f9be27be-a033-4bd2-ce35-60fedf973262"
      },
      "outputs": [
        {
          "output_type": "stream",
          "name": "stdout",
          "text": [
            "True\n"
          ]
        }
      ],
      "source": [
        "import os\n",
        "print(os.path.exists('test.txt'))"
      ]
    },
    {
      "cell_type": "markdown",
      "id": "e387e0a3",
      "metadata": {
        "id": "e387e0a3"
      },
      "source": [
        "### 14. Log info and error"
      ]
    },
    {
      "cell_type": "code",
      "execution_count": 14,
      "id": "ffb01048",
      "metadata": {
        "colab": {
          "base_uri": "https://localhost:8080/"
        },
        "id": "ffb01048",
        "outputId": "3037c4af-34f1-4f65-b006-56f843ec369e"
      },
      "outputs": [
        {
          "output_type": "stream",
          "name": "stderr",
          "text": [
            "ERROR:root:Error msg\n"
          ]
        }
      ],
      "source": [
        "logging.info('Info msg')\n",
        "logging.error('Error msg')"
      ]
    },
    {
      "cell_type": "markdown",
      "id": "7cf11310",
      "metadata": {
        "id": "7cf11310"
      },
      "source": [
        "### 15. Print file or empty"
      ]
    },
    {
      "cell_type": "code",
      "execution_count": 15,
      "id": "9aba8fd5",
      "metadata": {
        "colab": {
          "base_uri": "https://localhost:8080/"
        },
        "id": "9aba8fd5",
        "outputId": "74637336-5159-4cb6-a1fb-019e29661fb3"
      },
      "outputs": [
        {
          "output_type": "stream",
          "name": "stdout",
          "text": [
            "Hello, file!\n",
            "Appended line\n"
          ]
        }
      ],
      "source": [
        "with open('test.txt') as f:\n",
        "    content=f.read()\n",
        "    print(content if content else 'File empty')"
      ]
    },
    {
      "cell_type": "markdown",
      "id": "d33250eb",
      "metadata": {
        "id": "d33250eb"
      },
      "source": [
        "### 16. Memory profiling demo"
      ]
    },
    {
      "cell_type": "code",
      "execution_count": 16,
      "id": "a670d912",
      "metadata": {
        "colab": {
          "base_uri": "https://localhost:8080/"
        },
        "id": "a670d912",
        "outputId": "46b3b02e-b261-4a0f-cefc-e2252aa953c5"
      },
      "outputs": [
        {
          "output_type": "stream",
          "name": "stdout",
          "text": [
            "Created list of 10k numbers\n"
          ]
        }
      ],
      "source": [
        "x=[i for i in range(10000)]\n",
        "print('Created list of 10k numbers')"
      ]
    },
    {
      "cell_type": "markdown",
      "id": "49ac9837",
      "metadata": {
        "id": "49ac9837"
      },
      "source": [
        "### 17. Write numbers line by line"
      ]
    },
    {
      "cell_type": "code",
      "execution_count": 17,
      "id": "01a405a2",
      "metadata": {
        "id": "01a405a2"
      },
      "outputs": [],
      "source": [
        "with open('nums.txt','w') as f:\n",
        "    for i in range(1,6): f.write(str(i)+'\\n')"
      ]
    },
    {
      "cell_type": "markdown",
      "id": "78c8382b",
      "metadata": {
        "id": "78c8382b"
      },
      "source": [
        "### 18. Logging with rotation"
      ]
    },
    {
      "cell_type": "code",
      "execution_count": 18,
      "id": "bc92e72f",
      "metadata": {
        "colab": {
          "base_uri": "https://localhost:8080/"
        },
        "id": "bc92e72f",
        "outputId": "48ab47bf-fc81-4f92-d330-71549ddfb109"
      },
      "outputs": [
        {
          "output_type": "stream",
          "name": "stderr",
          "text": [
            "INFO:root:Rotating log example\n"
          ]
        }
      ],
      "source": [
        "from logging.handlers import RotatingFileHandler\n",
        "handler=RotatingFileHandler('app.log',maxBytes=1_000_000,backupCount=3)\n",
        "logger=logging.getLogger()\n",
        "logger.addHandler(handler)\n",
        "logger.setLevel(logging.INFO)\n",
        "logger.info('Rotating log example')"
      ]
    },
    {
      "cell_type": "markdown",
      "id": "c06ed5c3",
      "metadata": {
        "id": "c06ed5c3"
      },
      "source": [
        "### 19. Handle IndexError and KeyError"
      ]
    },
    {
      "cell_type": "code",
      "execution_count": 19,
      "id": "b2615e72",
      "metadata": {
        "colab": {
          "base_uri": "https://localhost:8080/"
        },
        "id": "b2615e72",
        "outputId": "49a4fb36-c1a1-4f83-a725-465f315c020d"
      },
      "outputs": [
        {
          "output_type": "stream",
          "name": "stdout",
          "text": [
            "Index error\n",
            "Key error\n"
          ]
        }
      ],
      "source": [
        "try:\n",
        "    [1,2][5]\n",
        "except IndexError:\n",
        "    print('Index error')\n",
        "try:\n",
        "    {}['x']\n",
        "except KeyError:\n",
        "    print('Key error')"
      ]
    },
    {
      "cell_type": "markdown",
      "id": "bb65894f",
      "metadata": {
        "id": "bb65894f"
      },
      "source": [
        "### 20. Context manager read"
      ]
    },
    {
      "cell_type": "code",
      "execution_count": 20,
      "id": "3f4ac812",
      "metadata": {
        "colab": {
          "base_uri": "https://localhost:8080/"
        },
        "id": "3f4ac812",
        "outputId": "bbcdc24f-46a4-4b1e-903b-566a5c31e87c"
      },
      "outputs": [
        {
          "output_type": "stream",
          "name": "stdout",
          "text": [
            "Hello, file!\n",
            "Appended line\n"
          ]
        }
      ],
      "source": [
        "with open('test.txt') as f:\n",
        "    print(f.read())"
      ]
    },
    {
      "cell_type": "markdown",
      "id": "cc4e37cd",
      "metadata": {
        "id": "cc4e37cd"
      },
      "source": [
        "### 21. Count word occurrences"
      ]
    },
    {
      "cell_type": "code",
      "execution_count": 21,
      "id": "e3e8a3d9",
      "metadata": {
        "colab": {
          "base_uri": "https://localhost:8080/"
        },
        "id": "e3e8a3d9",
        "outputId": "6bbb4953-c2c4-4a08-852a-109f419f7fdb"
      },
      "outputs": [
        {
          "output_type": "stream",
          "name": "stdout",
          "text": [
            "1\n"
          ]
        }
      ],
      "source": [
        "word='Hello'\n",
        "with open('test.txt') as f:\n",
        "    text=f.read()\n",
        "print(text.count(word))"
      ]
    },
    {
      "cell_type": "markdown",
      "id": "182ee84d",
      "metadata": {
        "id": "182ee84d"
      },
      "source": [
        "### 22. Check empty file"
      ]
    },
    {
      "cell_type": "code",
      "execution_count": 22,
      "id": "0c5d4641",
      "metadata": {
        "colab": {
          "base_uri": "https://localhost:8080/"
        },
        "id": "0c5d4641",
        "outputId": "41dcfbf7-0438-49fa-d096-32a9fa747063"
      },
      "outputs": [
        {
          "output_type": "stream",
          "name": "stdout",
          "text": [
            "False\n"
          ]
        }
      ],
      "source": [
        "import os\n",
        "print(os.stat('test.txt').st_size==0)"
      ]
    },
    {
      "cell_type": "markdown",
      "id": "d4fcedf6",
      "metadata": {
        "id": "d4fcedf6"
      },
      "source": [
        "### 23. Log file handling error"
      ]
    },
    {
      "cell_type": "code",
      "execution_count": 23,
      "id": "c399cf55",
      "metadata": {
        "colab": {
          "base_uri": "https://localhost:8080/"
        },
        "id": "c399cf55",
        "outputId": "c6c4c837-a0ce-4f4d-ed04-d4597adaa005"
      },
      "outputs": [
        {
          "output_type": "stream",
          "name": "stderr",
          "text": [
            "ERROR:root:File error: [Errno 2] No such file or directory: 'nofile.txt'\n"
          ]
        }
      ],
      "source": [
        "try:\n",
        "    open('nofile.txt')\n",
        "except Exception as e:\n",
        "    logging.error('File error: %s', e)"
      ]
    }
  ],
  "metadata": {
    "colab": {
      "provenance": [],
      "include_colab_link": true
    },
    "language_info": {
      "name": "python"
    },
    "kernelspec": {
      "name": "python3",
      "display_name": "Python 3"
    }
  },
  "nbformat": 4,
  "nbformat_minor": 5
}