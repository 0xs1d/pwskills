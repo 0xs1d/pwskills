{
  "cells": [
    {
      "cell_type": "markdown",
      "metadata": {
        "id": "view-in-github",
        "colab_type": "text"
      },
      "source": [
        "<a href=\"https://colab.research.google.com/github/0xs1d/pwskills/blob/main/functions_assignment_solution.ipynb\" target=\"_parent\"><img src=\"https://colab.research.google.com/assets/colab-badge.svg\" alt=\"Open In Colab\"/></a>"
      ]
    },
    {
      "cell_type": "markdown",
      "id": "b8ff4b2b",
      "metadata": {
        "id": "b8ff4b2b"
      },
      "source": [
        "# Functions, Polymorphism, and Encapsulation — Assignment Solutions\n",
        "\n",
        "This notebook contains theory answers and runnable Python code for the assignment.\n",
        "\n",
        "**Date:** 2025-09-13\n"
      ]
    },
    {
      "cell_type": "markdown",
      "id": "272c36c5",
      "metadata": {
        "id": "272c36c5"
      },
      "source": [
        "## Theory Questions\n",
        "\n",
        "**1. Difference between a function and a method in Python.**  \n",
        "- A function is a block of code defined with `def` that is independent of objects.  \n",
        "- A method is a function associated with an object (e.g., `list.append()`).  \n",
        "\n",
        "**2. Function arguments and parameters.**  \n",
        "- Parameters are variables in the function definition.  \n",
        "- Arguments are values passed when calling the function.  \n",
        "\n",
        "**3. Ways to define and call a function.**  \n",
        "- Using `def`, `lambda`, or nested functions.  \n",
        "- Call by function name with parentheses.  \n",
        "\n",
        "**4. Purpose of `return` statement.**  \n",
        "Sends a value back from a function to the caller.  \n",
        "\n",
        "**5. Iterators vs iterables.**  \n",
        "- Iterable: object that can return an iterator (list, tuple, etc.).  \n",
        "- Iterator: implements `__iter__()` and `__next__()`.  \n",
        "\n",
        "**6. Generators.**  \n",
        "Functions with `yield` that produce values lazily.  \n",
        "\n",
        "**7. Advantages of generators.**  \n",
        "- Save memory.  \n",
        "- Lazy evaluation.  \n",
        "- Simplify iterator code.  \n",
        "\n",
        "**8. Lambda function.**  \n",
        "Small anonymous function defined with `lambda`.  \n",
        "\n",
        "**9. Purpose of `map()`.**  \n",
        "Applies a function to each item in an iterable.  \n",
        "\n",
        "**10. Difference between map, reduce, filter.**  \n",
        "- `map()`: transform each element.  \n",
        "- `reduce()`: combine elements into one.  \n",
        "- `filter()`: select elements based on condition.  \n",
        "\n",
        "**11. Internal mechanism of reduce for sum of [47,11,42,13].**  \n",
        "- Step 1: 47+11=58  \n",
        "- Step 2: 58+42=100  \n",
        "- Step 3: 100+13=113  \n",
        "Final result: **113**\n"
      ]
    },
    {
      "cell_type": "markdown",
      "id": "4203a33d",
      "metadata": {
        "id": "4203a33d"
      },
      "source": [
        "## Practical Questions — Solutions"
      ]
    },
    {
      "cell_type": "markdown",
      "id": "61151b95",
      "metadata": {
        "id": "61151b95"
      },
      "source": [
        "### 1. Function that sums even numbers in a list"
      ]
    },
    {
      "cell_type": "code",
      "execution_count": 1,
      "id": "af42c2eb",
      "metadata": {
        "colab": {
          "base_uri": "https://localhost:8080/"
        },
        "id": "af42c2eb",
        "outputId": "23c29194-4274-4d59-8f55-a9404cff1fc5"
      },
      "outputs": [
        {
          "output_type": "stream",
          "name": "stdout",
          "text": [
            "12\n"
          ]
        }
      ],
      "source": [
        "def sum_even(nums):\n",
        "    return sum(n for n in nums if n%2==0)\n",
        "\n",
        "print(sum_even([1,2,3,4,5,6]))"
      ]
    },
    {
      "cell_type": "markdown",
      "id": "5bbe4bca",
      "metadata": {
        "id": "5bbe4bca"
      },
      "source": [
        "### 2. Function to reverse a string"
      ]
    },
    {
      "cell_type": "code",
      "execution_count": 2,
      "id": "4bdf37a0",
      "metadata": {
        "colab": {
          "base_uri": "https://localhost:8080/"
        },
        "id": "4bdf37a0",
        "outputId": "1d8246b0-1e85-404b-b229-3d2d6ae5fe0a"
      },
      "outputs": [
        {
          "output_type": "stream",
          "name": "stdout",
          "text": [
            "olleh\n"
          ]
        }
      ],
      "source": [
        "def reverse_str(s):\n",
        "    return s[::-1]\n",
        "\n",
        "print(reverse_str('hello'))"
      ]
    },
    {
      "cell_type": "markdown",
      "id": "b7135cee",
      "metadata": {
        "id": "b7135cee"
      },
      "source": [
        "### 3. Squares of a list of integers"
      ]
    },
    {
      "cell_type": "code",
      "execution_count": 3,
      "id": "d93efe7f",
      "metadata": {
        "colab": {
          "base_uri": "https://localhost:8080/"
        },
        "id": "d93efe7f",
        "outputId": "67c742ec-fbfa-42c8-cac0-5bd0bc8fd279"
      },
      "outputs": [
        {
          "output_type": "stream",
          "name": "stdout",
          "text": [
            "[1, 4, 9, 16]\n"
          ]
        }
      ],
      "source": [
        "def squares(lst):\n",
        "    return [x**2 for x in lst]\n",
        "\n",
        "print(squares([1,2,3,4]))"
      ]
    },
    {
      "cell_type": "markdown",
      "id": "90e544e9",
      "metadata": {
        "id": "90e544e9"
      },
      "source": [
        "### 4. Prime check function (1–200)"
      ]
    },
    {
      "cell_type": "code",
      "execution_count": 4,
      "id": "9db1fdd5",
      "metadata": {
        "colab": {
          "base_uri": "https://localhost:8080/"
        },
        "id": "9db1fdd5",
        "outputId": "4dacd42d-18e4-4f52-dfd3-c791f5c02ef9"
      },
      "outputs": [
        {
          "output_type": "stream",
          "name": "stdout",
          "text": [
            "[2, 3, 5, 7, 11, 13, 17, 19, 23, 29, 31, 37, 41, 43, 47, 53, 59, 61, 67, 71, 73, 79, 83, 89, 97, 101, 103, 107, 109, 113, 127, 131, 137, 139, 149, 151, 157, 163, 167, 173, 179, 181, 191, 193, 197, 199]\n"
          ]
        }
      ],
      "source": [
        "def is_prime(n):\n",
        "    if n<2: return False\n",
        "    for i in range(2,int(n**0.5)+1):\n",
        "        if n%i==0: return False\n",
        "    return True\n",
        "\n",
        "primes = [x for x in range(1,201) if is_prime(x)]\n",
        "print(primes)"
      ]
    },
    {
      "cell_type": "markdown",
      "id": "b1b3c6db",
      "metadata": {
        "id": "b1b3c6db"
      },
      "source": [
        "### 5. Iterator class for Fibonacci"
      ]
    },
    {
      "cell_type": "code",
      "execution_count": 5,
      "id": "fb7d1e9d",
      "metadata": {
        "colab": {
          "base_uri": "https://localhost:8080/"
        },
        "id": "fb7d1e9d",
        "outputId": "56eb2938-e519-47a8-ffed-f4f4cca4a35a"
      },
      "outputs": [
        {
          "output_type": "stream",
          "name": "stdout",
          "text": [
            "[0, 1, 1, 2, 3, 5, 8, 13, 21, 34]\n"
          ]
        }
      ],
      "source": [
        "class Fibonacci:\n",
        "    def __init__(self,n):\n",
        "        self.n=n; self.a=0; self.b=1; self.count=0\n",
        "    def __iter__(self): return self\n",
        "    def __next__(self):\n",
        "        if self.count>=self.n: raise StopIteration\n",
        "        val=self.a\n",
        "        self.a,self.b=self.b,self.a+self.b\n",
        "        self.count+=1\n",
        "        return val\n",
        "\n",
        "print(list(Fibonacci(10)))"
      ]
    },
    {
      "cell_type": "markdown",
      "id": "c311d443",
      "metadata": {
        "id": "c311d443"
      },
      "source": [
        "### 6. Generator function for powers of 2"
      ]
    },
    {
      "cell_type": "code",
      "execution_count": 6,
      "id": "5a56a304",
      "metadata": {
        "colab": {
          "base_uri": "https://localhost:8080/"
        },
        "id": "5a56a304",
        "outputId": "745258b2-fd3a-405b-bfdd-e5382e37216e"
      },
      "outputs": [
        {
          "output_type": "stream",
          "name": "stdout",
          "text": [
            "[1, 2, 4, 8, 16, 32]\n"
          ]
        }
      ],
      "source": [
        "def pow2_gen(exp):\n",
        "    for i in range(exp+1):\n",
        "        yield 2**i\n",
        "\n",
        "print(list(pow2_gen(5)))"
      ]
    },
    {
      "cell_type": "markdown",
      "id": "280bced3",
      "metadata": {
        "id": "280bced3"
      },
      "source": [
        "### 7. Generator to read file line by line"
      ]
    },
    {
      "cell_type": "code",
      "execution_count": 7,
      "id": "bc19f782",
      "metadata": {
        "id": "bc19f782"
      },
      "outputs": [],
      "source": [
        "def file_reader(path):\n",
        "    with open(path) as f:\n",
        "        for line in f:\n",
        "            yield line.strip()\n",
        "\n",
        "# Example skipped (no file available)."
      ]
    },
    {
      "cell_type": "markdown",
      "id": "adb0f874",
      "metadata": {
        "id": "adb0f874"
      },
      "source": [
        "### 8. Lambda to sort list of tuples by 2nd element"
      ]
    },
    {
      "cell_type": "code",
      "execution_count": 8,
      "id": "e716cf40",
      "metadata": {
        "colab": {
          "base_uri": "https://localhost:8080/"
        },
        "id": "e716cf40",
        "outputId": "d8a85303-013b-462c-d9ba-fe053a45d3c8"
      },
      "outputs": [
        {
          "output_type": "stream",
          "name": "stdout",
          "text": [
            "[(2, 1), (3, 2), (1, 3)]\n"
          ]
        }
      ],
      "source": [
        "pairs = [(1,3),(2,1),(3,2)]\n",
        "sorted_pairs = sorted(pairs,key=lambda x:x[1])\n",
        "print(sorted_pairs)"
      ]
    },
    {
      "cell_type": "markdown",
      "id": "70218988",
      "metadata": {
        "id": "70218988"
      },
      "source": [
        "### 9. Map Celsius to Fahrenheit"
      ]
    },
    {
      "cell_type": "code",
      "execution_count": 9,
      "id": "dcbe848b",
      "metadata": {
        "colab": {
          "base_uri": "https://localhost:8080/"
        },
        "id": "dcbe848b",
        "outputId": "769662c3-dc59-4436-dbea-5e81fa7041be"
      },
      "outputs": [
        {
          "output_type": "stream",
          "name": "stdout",
          "text": [
            "[32.0, 68.0, 86.0, 212.0]\n"
          ]
        }
      ],
      "source": [
        "temps = [0,20,30,100]\n",
        "fahrenheit = list(map(lambda c:(c*9/5)+32, temps))\n",
        "print(fahrenheit)"
      ]
    },
    {
      "cell_type": "markdown",
      "id": "8f132ea4",
      "metadata": {
        "id": "8f132ea4"
      },
      "source": [
        "### 10. Filter vowels from string"
      ]
    },
    {
      "cell_type": "code",
      "execution_count": 10,
      "id": "9a19e31a",
      "metadata": {
        "colab": {
          "base_uri": "https://localhost:8080/"
        },
        "id": "9a19e31a",
        "outputId": "44d596f3-0de4-4be4-e21c-6573631d10d4"
      },
      "outputs": [
        {
          "output_type": "stream",
          "name": "stdout",
          "text": [
            "hll wrld\n"
          ]
        }
      ],
      "source": [
        "s='hello world'\n",
        "vowels='aeiou'\n",
        "result=''.join(filter(lambda ch: ch not in vowels, s))\n",
        "print(result)"
      ]
    },
    {
      "cell_type": "markdown",
      "id": "fc6e2a19",
      "metadata": {
        "id": "fc6e2a19"
      },
      "source": [
        "### 11. Bookshop accounting routine"
      ]
    },
    {
      "cell_type": "code",
      "execution_count": 11,
      "id": "aa6cefb9",
      "metadata": {
        "colab": {
          "base_uri": "https://localhost:8080/"
        },
        "id": "aa6cefb9",
        "outputId": "7bfd8cb8-5697-48ee-e4eb-265d127df59e"
      },
      "outputs": [
        {
          "output_type": "stream",
          "name": "stdout",
          "text": [
            "[(34587, 163.8), (98762, 284.0), (77226, 108.85000000000001), (88112, 84.97)]\n"
          ]
        }
      ],
      "source": [
        "orders = [\n",
        " [34587, 'Learning Python', 4, 40.95],\n",
        " [98762, 'Programming in C', 5, 56.80],\n",
        " [77226, 'Head First Java', 3, 32.95],\n",
        " [88112, 'Intro to Algorithms', 3, 24.99]\n",
        "]\n",
        "\n",
        "res = list(map(lambda x:(x[0], x[2]*x[3] if x[2]*x[3]>=100 else x[2]*x[3]+10), orders))\n",
        "print(res)"
      ]
    }
  ],
  "metadata": {
    "colab": {
      "provenance": [],
      "include_colab_link": true
    },
    "language_info": {
      "name": "python"
    },
    "kernelspec": {
      "name": "python3",
      "display_name": "Python 3"
    }
  },
  "nbformat": 4,
  "nbformat_minor": 5
}